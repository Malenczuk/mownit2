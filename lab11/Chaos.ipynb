{
 "cells": [
  {
   "cell_type": "markdown",
   "metadata": {},
   "source": [
    "# Teoria chaosu\n",
    "\n",
    "## Ciekawe materiały\n",
    "* [Niesamowita książka Iana Stewarta: \"Does God Play Dice?\"](https://www.empik.com/czy-bog-gra-w-kosci-stewart-ian,318219,ksiazka-p)\n",
    "* [Książka E. Lorenza o chaosie](https://www.amazon.com/Essence-Chaos-Jessie-John-Lectures/dp/0295975148)\n",
    "* [Wikipedia o Teorii Chaosu](https://en.wikipedia.org/wiki/Chaos_theory)\n",
    "* [Wikipedia o równaniach Lorenza](https://en.wikipedia.org/wiki/Lorenz_system)\n",
    "* [Ciekawe rozważania o chaosie i losowości](https://medium.com/intuitionmachine/there-is-no-randomness-only-chaos-and-complexity-c92f6dccd7ab)\n",
    "* [Atraktor Roeslera](https://en.wikipedia.org/wiki/R%C3%B6ssler_attractor)\n",
    "* [Atraktor Kuramoto-Shivashinsky'ego](https://en.wikipedia.org/wiki/Kuramoto%E2%80%93Sivashinsky_equation)\n",
    "\n",
    "\n",
    "## Słowo wstępu\n",
    "\n",
    "Pogodę można przewidywać na dwa sposoby: synoptycznie (wróżąc z chmur, wyżów, niżów, wilgotności, etc.) oraz numerycznie. W tym drugim przypadku zbieramy dane o zmianach możliwie największej ilości parametrów w czasie i staramy się wymyślić model, który w dobry sposób opisze nasze zmiany. Jak w wielu dziedzinach życia okazuje się, że jego wyliczenie sprowadza się do rozwiązania równania różniczkowego. Jednak kiedy wiele lat temu próbowano rozwiązać te równania na komputerze, zauważono jedną rzecz: rozwiązanie równania dawało prognozy dokładne mniej więcej przez trzy dni. Zwiększanie dokładności obliczeń nie pomagało wiele. Okazało się, że mamy do czynienia z równaniem, którym nawet najmniejsze zmiany warunków początkowych powodują wielkie zmiany wyników. Edward Lorenz wydestylował minimalny przykład (\"repro\"):\n",
    "\n",
    "$\n",
    "{\\begin{aligned}{\\frac {\\mathrm {d} x}{\\mathrm {d} t}}&=\\sigma (y-x),\\\\{\\frac {\\mathrm {d} y}{\\mathrm {d} t}}&=x(\\rho -z)-y,\\\\{\\frac {\\mathrm {d} z}{\\mathrm {d} t}}&=xy-\\beta z.\\end{aligned}}\n",
    "$\n",
    "\n",
    "To układ równań różniczkowych \"po czasie\": opisuje zmiany pewnego systemu w czasie (w tym wypadku jest to układ trzech zmiennych). Jego rozwiązanie to trajektoria: funkcja zmiany położenia w czasie. Jeśli zrobimy wykres rzutu tej trajektorii na któreś dwa z trzech wymiarów, dostaniemy taki oto piękny obrazek:\n",
    "\n",
    "![lorenz_attractor](https://upload.wikimedia.org/wikipedia/commons/1/13/A_Trajectory_Through_Phase_Space_in_a_Lorenz_Attractor.gif)\n",
    "\n",
    "Kulka porusza się po trajektorii wraz z upływającym czasem. Takie zachowanie nazywamy **chaotycznym**. Zauważmy, że nie jest to zachowanie losowe: gdybyśmy liczyli z nieskończoną dokładnością, nie byłoby problemów z przewidzeniem, jak wygląda trajektoria.\n",
    "\n",
    "## Zadanie\n",
    "\n",
    "Napisz program, który będzie rysował trajektorię dla któregoś z chaotycznych atraktorów: Lorenza, Roeslera, Kuramoto-Shivashinsky'ego (lub innych znalezionych). Rozwiązanie wymaga rozwiązania równania różniczkowego. W Pythonie można to zrobić np. funkcją [`odeint` z pakietu SciPy](https://docs.scipy.org/doc/scipy-0.14.0/reference/generated/scipy.integrate.odeint.html#scipy.integrate.odeint).\n",
    "\n",
    "Wielkim plusem będzie interaktywność programu: warto zbadać, czy układ ma chaotyczne właściwości dla wszystkich zestawów parametrów, czy tylko dla pewnego ich podzbioru."
   ]
  },
  {
   "cell_type": "code",
   "execution_count": 1,
   "metadata": {},
   "outputs": [],
   "source": [
    "%matplotlib inline\n",
    "\n",
    "from ipywidgets import interact, interactive\n",
    "from IPython.display import clear_output, display, HTML\n",
    "\n",
    "import numpy as np\n",
    "import matplotlib.pyplot as plt\n",
    "from scipy.integrate import odeint\n",
    "from mpl_toolkits.mplot3d import Axes3D\n",
    "from matplotlib.colors import cnames\n",
    "from matplotlib import animation"
   ]
  },
  {
   "cell_type": "code",
   "execution_count": 2,
   "metadata": {},
   "outputs": [],
   "source": [
    "def solve_lorenz(N = 1, angle=0.0, max_time=20.0, sigma=10., beta=8./3, rho=28.):\n",
    "\n",
    "    fig = plt.figure()\n",
    "    ax = fig.gca(projection='3d')\n",
    "    ax.axis('off')\n",
    "    \n",
    "    def lorenz_deriv(x_y_z, t0, sigma=sigma, beta=beta, rho=rho):\n",
    "        x, y, z = x_y_z\n",
    "        return [sigma * (y - x), x * (rho - z) - y, x * y - beta * z]\n",
    "\n",
    "    np.random.seed(1)\n",
    "    state0 = (-15 + 30 * np.random.random((N, 3)))[N - 1]\n",
    "\n",
    "    t = np.linspace(0, max_time, int(250*max_time))\n",
    "    states = odeint(lorenz_deriv, state0, t)\n",
    "    \n",
    "    x, y, z = states[:,:].T\n",
    "    lines = ax.plot(x, y, z, '-')\n",
    "    plt.setp(lines, linewidth=.5)\n",
    "\n",
    "    ax.set_title(\"Lorenz Attractor\")\n",
    "    \n",
    "    ax.view_init(30, angle)\n",
    "    plt.show()\n",
    "    \n",
    "    return t, states"
   ]
  },
  {
   "cell_type": "code",
   "execution_count": 4,
   "metadata": {},
   "outputs": [
    {
     "data": {
      "application/vnd.jupyter.widget-view+json": {
       "model_id": "940b3ffe4ef7475780eb2b06adc39d88",
       "version_major": 2,
       "version_minor": 0
      },
      "text/plain": [
       "interactive(children=(IntSlider(value=1, description='N', max=40, min=1), FloatSlider(value=0.0, description='…"
      ]
     },
     "metadata": {},
     "output_type": "display_data"
    }
   ],
   "source": [
    "interactive(solve_lorenz, angle=(0.,360.), N=(1,40), max_time=(0.1, 40.0), sigma=(0.0,50.0), rho=(0.0,50.0))"
   ]
  },
  {
   "cell_type": "code",
   "execution_count": null,
   "metadata": {},
   "outputs": [],
   "source": []
  }
 ],
 "metadata": {
  "kernelspec": {
   "display_name": "Python 3",
   "language": "python",
   "name": "python3"
  },
  "language_info": {
   "codemirror_mode": {
    "name": "ipython",
    "version": 3
   },
   "file_extension": ".py",
   "mimetype": "text/x-python",
   "name": "python",
   "nbconvert_exporter": "python",
   "pygments_lexer": "ipython3",
   "version": "3.7.2"
  }
 },
 "nbformat": 4,
 "nbformat_minor": 2
}
