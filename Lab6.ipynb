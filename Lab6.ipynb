{
 "cells": [
  {
   "cell_type": "markdown",
   "metadata": {},
   "source": [
    "# Regresja liniowa z regularyzacją\n",
    "\n",
    "### Czytanka\n",
    "* https://www.analyticsvidhya.com/blog/2017/06/a-comprehensive-guide-for-linear-ridge-and-lasso-regression/\n",
    "* https://www.analyticsvidhya.com/blog/2016/01/complete-tutorial-ridge-lasso-regression-python/\n",
    "* https://github.com/justmarkham/DAT4/blob/master/notebooks/08_linear_regression.ipynb\n",
    "* https://www.kaggle.com/apapiu/regularized-linear-models\n",
    "\n",
    "### Pytania\n",
    "* w jakich sytuacjach zwykła regresja daje złe rezultaty?\n",
    "* dlaczego chcemy \"karać\" model za wysokie wagi?\n",
    "\n",
    "### Zadania\n",
    "1. [rozgrzewkowe] Zaimplementować (zwyczajną) regresję liniową dla funkcji `R^3 -> R` (przykład takiej funkcji to cena domu, liczona na podstawie jego powierzchni, ilości pokoi i ilości pięter).\n",
    "2. Rozszerzyć powyższy algorytm tak, by akceptował dane o dowolnej wymiarowości\n",
    "3. Zaimplementować regularyzację L1 w powyższej funkcji\n",
    "4. Zaimplementować regularyzację L2\n",
    "5. Rozszerzyć klasę `LinearRegressor` z poprzednich zajęć tak, by używała nowej, wielowymiarowej regresji i pozwalała przekazać opcjonalny parametr `regularization`, o wartościach `l1` lub `l2`, i na jego podstawie dokonująca odpowiedniego rodzaju regularyzacji."
   ]
  },
  {
   "cell_type": "code",
   "execution_count": null,
   "metadata": {
    "collapsed": true
   },
   "outputs": [],
   "source": []
  }
 ],
 "metadata": {
  "kernelspec": {
   "display_name": "Python 3",
   "language": "python",
   "name": "python3"
  },
  "language_info": {
   "codemirror_mode": {
    "name": "ipython",
    "version": 3
   },
   "file_extension": ".py",
   "mimetype": "text/x-python",
   "name": "python",
   "nbconvert_exporter": "python",
   "pygments_lexer": "ipython3",
   "version": "3.6.1"
  }
 },
 "nbformat": 4,
 "nbformat_minor": 2
}
