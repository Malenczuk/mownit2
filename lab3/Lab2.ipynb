{
 "cells": [
  {
   "cell_type": "markdown",
   "metadata": {},
   "source": [
    "# Układy równań liniowych\n",
    "\n",
    "### Pojęcia warte poznania\n",
    "\n",
    "* Układ równań liniowych: https://pl.wikipedia.org/wiki/Układ_równań_liniowych\n",
    "* Rząd macierzy: https://pl.wikipedia.org/wiki/Rząd_macierzy\n",
    "* Kombinacja liniowa: https://pl.wikipedia.org/wiki/Kombinacja_liniowa\n",
    "* Eliminacja Gaussa: https://pl.wikipedia.org/wiki/Metoda_eliminacji_Gaussa, Kincaid-Cheney_*_ str. 245, pełny pseudokod: str. 252\n",
    "* Pivoting: https://en.wikipedia.org/wiki/Pivot_element#Partial_and_complete_pivoting, K.C. str. 261, pełny pseudokod: str. 267\n",
    "* Norma wektora: https://pl.wikipedia.org/wiki/Przestrze%C5%84_unormowana, K.C. str. 320\n",
    "* Norma macierzy: https://pl.wikipedia.org/wiki/Norma_macierzowa\n",
    "* Macierz dodatnio określona: https://pl.wikipedia.org/wiki/Określoność_formy\n",
    "* Faktoryzacja LU: https://pl.wikipedia.org/wiki/Metoda_LU, K.C. str. 294\n",
    "* Faktoryzacja Cholesky'ego: https://pl.wikipedia.org/wiki/Rozkład_Choleskiego, K.C. str. 305\n",
    "\n",
    "Dodatkowo:\n",
    "* Wskaźnik uwarunkowania: https://pl.wikipedia.org/wiki/Wska%C5%BAnik_uwarunkowania, K.C. str.321\n",
    "* Metoda Jacobiego: https://en.wikipedia.org/wiki/Jacobi_method, K.C. 323\n",
    "\n",
    "Książka dla wytrwałych (naprawdę): Y. Saad \"Iterative Methods for Sparse Linear Systems\""
   ]
  },
  {
   "cell_type": "code",
   "execution_count": 4,
   "metadata": {},
   "outputs": [],
   "source": [
    "from typing import Optional, Tuple\n",
    "import numpy as np"
   ]
  },
  {
   "cell_type": "markdown",
   "metadata": {},
   "source": [
    "### Zadanie rozgrzewkowe:\n",
    "Napisać mnożenie macierzy w ulubionym_\\**_ języku programowania.\n",
    "\n",
    "**Pytanko:** jakie muszą być wymiary mnożonych macierzy? (Który wymiar musi się \"zgadzać\"?)\n",
    "\n",
    "**Zadanko:** Uzupełnić brakujące wymiary macierzy w docstringu (z dokładnością do [\"alfa-konwersji\"](https://pl.wikipedia.org/wiki/Konwersja_α))"
   ]
  },
  {
   "cell_type": "code",
   "execution_count": 16,
   "metadata": {},
   "outputs": [],
   "source": [
    "def agh_superfast_matrix_multiply(a: np.matrix, b: np.matrix) -> np.matrix:\n",
    "    \"\"\"Perform totally ordinary multiplication of matrices.\n",
    "    \n",
    "    :param a: matrix with dimensions _ by _\n",
    "    :param b: matrix with dimensions _ by _\n",
    "    :return:  matrix with dimensions _ by _\n",
    "    \"\"\"\n",
    "    n, k = a.shape\n",
    "    m = b.shape[1]\n",
    "    a1 = a.A\n",
    "    b1 = b.A\n",
    "    c = np.zeros((n, m), dtype=float)\n",
    "    for i in range(n):\n",
    "        for j in range(m):\n",
    "            for l in range(k):\n",
    "                c[i][j] += a1[i][l] * b1[l][j]\n",
    "    return c if not (isinstance(a, np.matrix) and isinstance(b, np.matrix)) else np.matrix(c)\n",
    "\n",
    "m1 = np.matrix([[1, 2],\n",
    "                [3, 4],\n",
    "                [4, 5],\n",
    "                [5, 1]])\n",
    "\n",
    "m2 = np.matrix([[1, 2, 3],\n",
    "                [4, 5, 6]])\n",
    "\n",
    "res = agh_superfast_matrix_multiply(m1, m2)\n",
    "assert np.allclose(res, m1 * m2), \"Wrong multiplication result\""
   ]
  },
  {
   "cell_type": "markdown",
   "metadata": {},
   "source": [
    "### Zadania\n",
    "1. Przeczytać rozdz. 7. Kincaida i Cheney'a (Systems of Linear Equations).\n",
    "2. Przeczytać rozdz. 8. Kincaida i Cheney'a (Additional Topics Concerning Systems of Linear Equations).\n",
    "3. Napisać kod (w ulubionym_\\**_ języku) do eliminacji Gaussa z i bez pivotingu.\n",
    "4. Rozwiązać poniższy układ równań z pivotingiem i bez, porównać wyniki:"
   ]
  },
  {
   "cell_type": "code",
   "execution_count": 12,
   "metadata": {},
   "outputs": [
    {
     "data": {
      "text/plain": [
       "matrix([[ 0.21602477],\n",
       "        [-0.00791511],\n",
       "        [ 0.63524333],\n",
       "        [ 0.74617428]])"
      ]
     },
     "execution_count": 12,
     "metadata": {},
     "output_type": "execute_result"
    }
   ],
   "source": [
    "A = np.matrix([[0.0001, -5.0300, 5.8090, 7.8320],\n",
    "               [2.2660, 1.9950,  1.2120, 8.0080],\n",
    "               [8.8500, 5.6810,  4.5520, 1.3020],\n",
    "               [6.7750, -2.253,  2.9080, 3.9700]])\n",
    "\n",
    "b = np.matrix([9.5740, 7.2190, 5.7300, 6.2910]).transpose()\n",
    "\n",
    "x = np.linalg.solve(A, b)\n",
    "\n",
    "x"
   ]
  },
  {
   "cell_type": "markdown",
   "metadata": {},
   "source": [
    "**Pytanie**: dlaczego wołamy `transpose()` na wektorze `b`?\n",
    "\n",
    "Sprawdźmy, czy rozwiązanie jest ok (**Pytanie'**: dlaczego po prostu nie użyjemy `==` lub jakiegoś `equals`?):"
   ]
  },
  {
   "cell_type": "code",
   "execution_count": null,
   "metadata": {
    "collapsed": true
   },
   "outputs": [],
   "source": [
    "np.allclose(np.dot(A, x), b)"
   ]
  },
  {
   "cell_type": "code",
   "execution_count": 9,
   "metadata": {},
   "outputs": [],
   "source": [
    "def gauss_elimination(A, B, dtype=float):\n",
    "    a = np.copy(A)\n",
    "    b = np.copy(B)\n",
    "    n = a.shape[0]\n",
    "\n",
    "    for k in range(0, n):\n",
    "        for i in range(k+1, n):\n",
    "            xmult = a[i][k] / a[k][k]\n",
    "            a[i][k] = xmult\n",
    "            for j in range(k+1, n):\n",
    "                a[i][j] -= xmult * a[k][j]\n",
    "            b[i] -= xmult * b[k]\n",
    "\n",
    "    x = np.zeros((n,1), dtype=dtype)\n",
    "    x[n-1][0] = b[n-1] / a[n-1][n-1]\n",
    "\n",
    "    for i in range(n-1, -1, -1):\n",
    "        summ = b[i]\n",
    "        for j in range(i+1, n):\n",
    "            summ -= a[i][j] * x[j][0]\n",
    "        x[i][0] = summ / a[i][i]\n",
    "\n",
    "    return np.matrix(x) if isinstance(A, np.matrix) else x\n",
    "\n",
    "\n",
    "def gauss_with_pivoting(A, B, dtype=float):\n",
    "    a = np.copy(A)\n",
    "    b = np.copy(B)\n",
    "    n = a.shape[0]\n",
    "    x = np.zeros((n,1), dtype=dtype)\n",
    "    s = np.zeros(n, dtype=dtype)\n",
    "    p = np.zeros(n, dtype=int)\n",
    "\n",
    "    for i in range(n):\n",
    "        p[i] = i\n",
    "        smax = 0\n",
    "        for j in range(n):\n",
    "            smax = max(smax, abs(a[i][j]))\n",
    "        s[i] = smax\n",
    "\n",
    "    for k in range(n-1):\n",
    "        rmax = 0\n",
    "        j = k\n",
    "        for i in range(k+1, n):\n",
    "            r = abs(a[p[i]][k] / s[p[i]])\n",
    "            if r > rmax:\n",
    "                rmax = r\n",
    "                j = i\n",
    "        p[j], p[k] = p[k], p[j]\n",
    "        for i in range(k+1, n):\n",
    "            xmult = a[p[i]][k] / a[p[k]][k]\n",
    "            a[p[i]][k] = xmult\n",
    "            for j in range(k+1, n):\n",
    "                a[p[i]][j] -= xmult * a[p[k]][j]\n",
    "\n",
    "    for k in range(n):\n",
    "        for i in range(k+1, n):\n",
    "            b[p[i]] -= a[p[i]][k] * b[p[k]]\n",
    "\n",
    "    x[n-1][0] = b[p[n-1]] / a[p[n-1]][n-1]\n",
    "    for i in range(n-1, -1, -1):\n",
    "        summ = b[p[i]]\n",
    "        for j in range(i+1, n):\n",
    "            summ -= a[p[i]][j] * x[j][0]\n",
    "        x[i][0] = summ / a[p[i]][i]\n",
    "    return np.matrix(x) if isinstance(A, np.matrix) else x"
   ]
  },
  {
   "cell_type": "code",
   "execution_count": 10,
   "metadata": {},
   "outputs": [
    {
     "data": {
      "text/plain": [
       "array([[ 0.21602477],\n",
       "       [-0.00791511],\n",
       "       [ 0.63524333],\n",
       "       [ 0.74617428]])"
      ]
     },
     "execution_count": 10,
     "metadata": {},
     "output_type": "execute_result"
    }
   ],
   "source": [
    "gauss_elimination(A.A, b.A)"
   ]
  },
  {
   "cell_type": "code",
   "execution_count": 13,
   "metadata": {},
   "outputs": [
    {
     "data": {
      "text/plain": [
       "array([[ 0.21602477],\n",
       "       [-0.00791511],\n",
       "       [ 0.63524333],\n",
       "       [ 0.74617428]])"
      ]
     },
     "execution_count": 13,
     "metadata": {},
     "output_type": "execute_result"
    }
   ],
   "source": [
    "gauss_with_pivoting(A.A, b.A)"
   ]
  },
  {
   "cell_type": "markdown",
   "metadata": {},
   "source": [
    "### Zadania, c.d.\n",
    "\n",
    "5. Zaimplementować algorytm faktoryzacji LU macierzy\n",
    "6. (*) Zaimplementować funkcję sprawdzającą, czy dana macierz jest symetryczna i dodatnio określona\n",
    "7. Zaimplementować algorytm faktoryzacji Cholesky'ego macierzy"
   ]
  },
  {
   "cell_type": "code",
   "execution_count": 18,
   "metadata": {},
   "outputs": [],
   "source": [
    "def agh_superfast_lu(a: np.matrix) -> Optional[Tuple[np.matrix, np.matrix]]:\n",
    "    \"\"\"Perform LU decomposition of a matrix.\n",
    "    \n",
    "    :param a: _\n",
    "    :return:  _\n",
    "    \"\"\"\n",
    "    n = a.shape[0]\n",
    "    a1 = A.A\n",
    "    l = np.zeros((n, n), dtype=dtype)\n",
    "    u = np.zeros((n, n), dtype=dtype)\n",
    "    for k in range(n):\n",
    "        l[k][k] = 1\n",
    "        for j in range(k, n):\n",
    "            u[k][j] = a1[k][j] - sum([l[k][s] * u[s][j] for s in range(k)])\n",
    "        for i in range(k+1, n):\n",
    "            l[i][k] = (a1[i][k] - sum([l[i][s] * u[s][k] for s in range(k)])) / u[k][k]\n",
    "    return Optional((np.matrix(l), np.matrix(u)))\n",
    "\n",
    "\n",
    "def agh_superfast_check_spd(a: np.matrix) -> bool:\n",
    "    \"\"\"Check whether a matrix is symmetric and positive-definite (SPD).\n",
    "    \n",
    "    :param a: _\n",
    "    \"\"\"\n",
    "    if a.shape[0] != a.shape[1]:\n",
    "        return False\n",
    "    n = a.shape[0]\n",
    "    a1 = a.A\n",
    "    for i in range(n):\n",
    "        for j in range(i,n):\n",
    "            if a1[i][j] != a1[j][i]:\n",
    "                return False\n",
    "    w, v = np.linalg.eig(a1)\n",
    "    return all([lmbd > 0 for lmbd in w])\n",
    "\n",
    "\n",
    "def agh_superfast_cholesky(a: np.matrix) -> Optional[np.matrix]:\n",
    "    \"\"\"Perform a Cholesky decomposition of a matrix.\n",
    "    \n",
    "    :param a: _\n",
    "    :return:  _\n",
    "    \"\"\"\n",
    "    n = A.shape[0]\n",
    "    a = A.A\n",
    "    l = np.zeros((n, n), dtype=dtype)\n",
    "    for k in range(n):\n",
    "        summ = 0\n",
    "        for s in range(k):\n",
    "            summ += l[k][s] * l[k][s]\n",
    "        l[k][k] = np.sqrt(a[k][k] - summ)\n",
    "        for i in range(k+1, n):\n",
    "            summ = 0\n",
    "            for s in range(k):\n",
    "                summ += l[i][s] * l[k][s]\n",
    "            l[i][k] = (a[i][k] - summ) / l[k][k]\n",
    "    return Optional(np.matrix(l))"
   ]
  },
  {
   "cell_type": "markdown",
   "metadata": {},
   "source": [
    "### Zadania, opcjonalnie\n",
    "5. zaimplementować metodę Jacobiego (iteracyjne rozwiązywanie układu równań liniowych)\n",
    "6. za pomocą tejże metody rozwiązać powyższy układ równań"
   ]
  },
  {
   "cell_type": "markdown",
   "metadata": {},
   "source": [
    "\\*  wszystkie referencje odnoszą się do [książki](https://wiki.iiet.pl/lib/exe/fetch.php?media=studia:przedmioty:mownit:numerical_mathematics_and_computing.pdf) David Kincaid, Ward Cheney - \"Numerical Mathematics and Computing, 6th edition\"\n",
    "\\** _ulubiony_ język programowania staramy się pojmować rozsądnie, tj. z wyłączeniem języków pokroju Prologa, języków z [tej listy](https://en.wikipedia.org/wiki/Esoteric_programming_language) oraz Assemblera i PHP. Haskella można używać na własną odpowiedzialność."
   ]
  }
 ],
 "metadata": {
  "kernelspec": {
   "display_name": "Python 3",
   "language": "python",
   "name": "python3"
  },
  "language_info": {
   "codemirror_mode": {
    "name": "ipython",
    "version": 3
   },
   "file_extension": ".py",
   "mimetype": "text/x-python",
   "name": "python",
   "nbconvert_exporter": "python",
   "pygments_lexer": "ipython3",
   "version": "3.7.2"
  }
 },
 "nbformat": 4,
 "nbformat_minor": 2
}
