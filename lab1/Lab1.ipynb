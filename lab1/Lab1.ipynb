{
 "cells": [
  {
   "cell_type": "markdown",
   "metadata": {},
   "source": [
    "IEEE-754 Analysis http://babbage.cs.qc.cuny.edu/IEEE-754/"
   ]
  },
  {
   "cell_type": "code",
   "execution_count": 1,
   "metadata": {},
   "outputs": [
    {
     "data": {
      "text/plain": [
       "\"00111111100000000000000000000000\""
      ]
     },
     "execution_count": 1,
     "metadata": {},
     "output_type": "execute_result"
    }
   ],
   "source": [
    "bitstring(Float32(1.0))"
   ]
  },
  {
   "cell_type": "code",
   "execution_count": 2,
   "metadata": {},
   "outputs": [
    {
     "data": {
      "text/plain": [
       "\"0011111111110000000000000000000000000000000000000000000000000000\""
      ]
     },
     "execution_count": 2,
     "metadata": {},
     "output_type": "execute_result"
    }
   ],
   "source": [
    "bitstring(Float64(1.0))"
   ]
  },
  {
   "cell_type": "code",
   "execution_count": 3,
   "metadata": {},
   "outputs": [
    {
     "data": {
      "text/plain": [
       "\"0011111111110000000000000000000000000000000000000000000000000000\""
      ]
     },
     "execution_count": 3,
     "metadata": {},
     "output_type": "execute_result"
    }
   ],
   "source": [
    "# domyślnie Float64\n",
    "bitstring(1.0)"
   ]
  },
  {
   "cell_type": "code",
   "execution_count": 4,
   "metadata": {},
   "outputs": [
    {
     "data": {
      "text/plain": [
       "\"0011110000000000\""
      ]
     },
     "execution_count": 4,
     "metadata": {},
     "output_type": "execute_result"
    }
   ],
   "source": [
    "# Float16\n",
    "bitstring(Float16(1.0))"
   ]
  },
  {
   "cell_type": "code",
   "execution_count": 5,
   "metadata": {},
   "outputs": [
    {
     "data": {
      "text/plain": [
       "('0', \"01111111\", \"00000000000000000000000\")"
      ]
     },
     "execution_count": 5,
     "metadata": {},
     "output_type": "execute_result"
    }
   ],
   "source": [
    "# znak, cecha, mantysa\n",
    "#uwaga - w Julii tablice indeksujemy od 1\n",
    "decode(x::Float32) = (b=bitstring(x); (b[1], b[2:9], b[10:32]))\n",
    "decode(Float32(1.0))"
   ]
  },
  {
   "cell_type": "code",
   "execution_count": 6,
   "metadata": {},
   "outputs": [
    {
     "name": "stdout",
     "output_type": "stream",
     "text": [
      "1.0*2^0\n"
     ]
    }
   ],
   "source": [
    "println(significand(Float32(1.0)), \"*2^\", exponent(Float32(1.0)))"
   ]
  },
  {
   "cell_type": "code",
   "execution_count": 7,
   "metadata": {},
   "outputs": [
    {
     "data": {
      "text/plain": [
       "10-element Array{String,1}:\n",
       " \"00111111100000000000000000000000\"\n",
       " \"00111111100000000000000000000001\"\n",
       " \"00111111100000000000000000000010\"\n",
       " \"00111111100000000000000000000011\"\n",
       " \"00111111100000000000000000000100\"\n",
       " \"00111111100000000000000000000101\"\n",
       " \"00111111100000000000000000000110\"\n",
       " \"00111111100000000000000000000111\"\n",
       " \"00111111100000000000000000001000\"\n",
       " \"00111111100000000000000000001001\""
      ]
     },
     "execution_count": 7,
     "metadata": {},
     "output_type": "execute_result"
    }
   ],
   "source": [
    "# co ile liczby sa reprezentowane \n",
    "c=Float32[]\n",
    "a=Float32(1.0)\n",
    "r=1:10\n",
    "for i=r\n",
    "    push!(c, a)\n",
    "    a=nextfloat(a)\n",
    "end\n",
    "map(x-> bitstring(x),c)"
   ]
  },
  {
   "cell_type": "code",
   "execution_count": 8,
   "metadata": {},
   "outputs": [
    {
     "data": {
      "text/plain": [
       "1.1920929f-7"
      ]
     },
     "execution_count": 8,
     "metadata": {},
     "output_type": "execute_result"
    }
   ],
   "source": [
    "# Maszynowe epsilon mówi, jaki jest odstęp między kolejnymi liczbami zmiennoprzecinkowymi reprezentowanymi w komputerze\n",
    "eps(Float32(1))"
   ]
  },
  {
   "cell_type": "code",
   "execution_count": 9,
   "metadata": {},
   "outputs": [
    {
     "data": {
      "text/plain": [
       "1.1920929f-7"
      ]
     },
     "execution_count": 9,
     "metadata": {},
     "output_type": "execute_result"
    }
   ],
   "source": [
    "eps(Float32)\n"
   ]
  },
  {
   "cell_type": "code",
   "execution_count": 10,
   "metadata": {
    "nbgrader": {
     "grade": true,
     "grade_id": "cell-510e2987d5b4ebfc",
     "locked": false,
     "points": 2,
     "schema_version": 1,
     "solution": true
    }
   },
   "outputs": [
    {
     "name": "stdout",
     "output_type": "stream",
     "text": [
      "('0', \"01111110\", \"00011001100110011001101\")  false\n",
      "('0', \"01111101\", \"00011001100110011001101\")  false\n",
      "('0', \"01111100\", \"00011001100110011001101\")  false\n",
      "('0', \"01111011\", \"00011001100110011001101\")  false\n",
      "('0', \"01111010\", \"00011001100110011001101\")  false\n",
      "('0', \"01111001\", \"00011001100110011001101\")  false\n",
      "('0', \"01111000\", \"00011001100110011001101\")  false\n",
      "('0', \"01110111\", \"00011001100110011001101\")  false\n",
      "('0', \"01110110\", \"00011001100110011001101\")  false\n",
      "('0', \"01110101\", \"00011001100110011001101\")  false\n",
      "('0', \"01110100\", \"00011001100110011001101\")  false\n",
      "('0', \"01110011\", \"00011001100110011001101\")  false\n",
      "('0', \"01110010\", \"00011001100110011001101\")  false\n",
      "('0', \"01110001\", \"00011001100110011001101\")  false\n",
      "('0', \"01110000\", \"00011001100110011001101\")  false\n",
      "('0', \"01101111\", \"00011001100110011001101\")  false\n",
      "('0', \"01101110\", \"00011001100110011001101\")  false\n",
      "('0', \"01101101\", \"00011001100110011001101\")  false\n",
      "('0', \"01101100\", \"00011001100110011001101\")  false\n",
      "('0', \"01101011\", \"00011001100110011001101\")  false\n",
      "('0', \"01101010\", \"00011001100110011001101\")  false\n",
      "('0', \"01101001\", \"00011001100110011001101\")  false\n",
      "('0', \"01101000\", \"00011001100110011001101\")  false\n",
      "('0', \"01100111\", \"00011001100110011001101\")  false\n",
      "('0', \"01100110\", \"00011001100110011001101\")  false\n",
      "('0', \"01100101\", \"00011001100110011001101\")  false\n",
      "('0', \"01100100\", \"00011001100110011001101\")  false\n",
      "('0', \"01100011\", \"00011001100110011001101\")  false\n",
      "('0', \"01100010\", \"00011001100110011001101\")  false\n",
      "('0', \"01100001\", \"00011001100110011001101\")  false\n",
      "('0', \"01100000\", \"00011001100110011001101\")  false\n",
      "('0', \"01011111\", \"00011001100110011001101\")  false\n",
      "('0', \"01011110\", \"00011001100110011001101\")  false\n",
      "('0', \"01011101\", \"00011001100110011001101\")  false\n",
      "('0', \"01011100\", \"00011001100110011001101\")  false\n",
      "('0', \"01011011\", \"00011001100110011001101\")  false\n",
      "('0', \"01011010\", \"00011001100110011001101\")  false\n",
      "('0', \"01011001\", \"00011001100110011001101\")  false\n",
      "('0', \"01011000\", \"00011001100110011001101\")  false\n",
      "('0', \"01010111\", \"00011001100110011001101\")  false\n",
      "('0', \"01010110\", \"00011001100110011001101\")  false\n",
      "('0', \"01010101\", \"00011001100110011001101\")  false\n",
      "('0', \"01010100\", \"00011001100110011001101\")  false\n",
      "('0', \"01010011\", \"00011001100110011001101\")  false\n",
      "('0', \"01010010\", \"00011001100110011001101\")  false\n",
      "('0', \"01010001\", \"00011001100110011001101\")  false\n",
      "('0', \"01010000\", \"00011001100110011001101\")  false\n",
      "('0', \"01001111\", \"00011001100110011001101\")  false\n",
      "('0', \"01001110\", \"00011001100110011001101\")  false\n",
      "('0', \"01001101\", \"00011001100110011001101\")  false\n",
      "('0', \"01001100\", \"00011001100110011001101\")  false\n",
      "('0', \"01001011\", \"00011001100110011001101\")  false\n",
      "('0', \"01001010\", \"00011001100110011001101\")  false\n",
      "('0', \"01001001\", \"00011001100110011001101\")  false\n",
      "('0', \"01001000\", \"00011001100110011001101\")  false\n",
      "('0', \"01000111\", \"00011001100110011001101\")  false\n",
      "('0', \"01000110\", \"00011001100110011001101\")  false\n",
      "('0', \"01000101\", \"00011001100110011001101\")  false\n",
      "('0', \"01000100\", \"00011001100110011001101\")  false\n",
      "('0', \"01000011\", \"00011001100110011001101\")  false\n",
      "('0', \"01000010\", \"00011001100110011001101\")  false\n",
      "('0', \"01000001\", \"00011001100110011001101\")  false\n",
      "('0', \"01000000\", \"00011001100110011001101\")  false\n",
      "('0', \"00111111\", \"00011001100110011001101\")  false\n",
      "('0', \"00111110\", \"00011001100110011001101\")  false\n",
      "('0', \"00111101\", \"00011001100110011001101\")  false\n",
      "('0', \"00111100\", \"00011001100110011001101\")  false\n",
      "('0', \"00111011\", \"00011001100110011001101\")  false\n",
      "('0', \"00111010\", \"00011001100110011001101\")  false\n",
      "('0', \"00111001\", \"00011001100110011001101\")  false\n",
      "('0', \"00111000\", \"00011001100110011001101\")  false\n",
      "('0', \"00110111\", \"00011001100110011001101\")  false\n",
      "('0', \"00110110\", \"00011001100110011001101\")  false\n",
      "('0', \"00110101\", \"00011001100110011001101\")  false\n",
      "('0', \"00110100\", \"00011001100110011001101\")  false\n",
      "('0', \"00110011\", \"00011001100110011001101\")  false\n",
      "('0', \"00110010\", \"00011001100110011001101\")  false\n",
      "('0', \"00110001\", \"00011001100110011001101\")  false\n",
      "('0', \"00110000\", \"00011001100110011001101\")  false\n",
      "('0', \"00101111\", \"00011001100110011001101\")  false\n",
      "('0', \"00101110\", \"00011001100110011001101\")  false\n",
      "('0', \"00101101\", \"00011001100110011001101\")  false\n",
      "('0', \"00101100\", \"00011001100110011001101\")  false\n",
      "('0', \"00101011\", \"00011001100110011001101\")  false\n",
      "('0', \"00101010\", \"00011001100110011001101\")  false\n",
      "('0', \"00101001\", \"00011001100110011001101\")  false\n",
      "('0', \"00101000\", \"00011001100110011001101\")  false\n",
      "('0', \"00100111\", \"00011001100110011001101\")  false\n",
      "('0', \"00100110\", \"00011001100110011001101\")  false\n",
      "('0', \"00100101\", \"00011001100110011001101\")  false\n",
      "('0', \"00100100\", \"00011001100110011001101\")  false\n",
      "('0', \"00100011\", \"00011001100110011001101\")  false\n",
      "('0', \"00100010\", \"00011001100110011001101\")  false\n",
      "('0', \"00100001\", \"00011001100110011001101\")  false\n",
      "('0', \"00100000\", \"00011001100110011001101\")  false\n",
      "('0', \"00011111\", \"00011001100110011001101\")  false\n",
      "('0', \"00011110\", \"00011001100110011001101\")  false\n",
      "('0', \"00011101\", \"00011001100110011001101\")  false\n",
      "('0', \"00011100\", \"00011001100110011001101\")  false\n",
      "('0', \"00011011\", \"00011001100110011001101\")  false\n",
      "('0', \"00011010\", \"00011001100110011001101\")  false\n",
      "('0', \"00011001\", \"00011001100110011001101\")  false\n",
      "('0', \"00011000\", \"00011001100110011001101\")  false\n",
      "('0', \"00010111\", \"00011001100110011001101\")  false\n",
      "('0', \"00010110\", \"00011001100110011001101\")  false\n",
      "('0', \"00010101\", \"00011001100110011001101\")  false\n",
      "('0', \"00010100\", \"00011001100110011001101\")  false\n",
      "('0', \"00010011\", \"00011001100110011001101\")  false\n",
      "('0', \"00010010\", \"00011001100110011001101\")  false\n",
      "('0', \"00010001\", \"00011001100110011001101\")  false\n",
      "('0', \"00010000\", \"00011001100110011001101\")  false\n",
      "('0', \"00001111\", \"00011001100110011001101\")  false\n",
      "('0', \"00001110\", \"00011001100110011001101\")  false\n",
      "('0', \"00001101\", \"00011001100110011001101\")  false\n",
      "('0', \"00001100\", \"00011001100110011001101\")  false\n",
      "('0', \"00001011\", \"00011001100110011001101\")  false\n",
      "('0', \"00001010\", \"00011001100110011001101\")  false\n",
      "('0', \"00001001\", \"00011001100110011001101\")  false\n",
      "('0', \"00001000\", \"00011001100110011001101\")  false\n",
      "('0', \"00000111\", \"00011001100110011001101\")  false\n",
      "('0', \"00000110\", \"00011001100110011001101\")  false\n",
      "('0', \"00000101\", \"00011001100110011001101\")  false\n",
      "('0', \"00000100\", \"00011001100110011001101\")  false\n",
      "('0', \"00000011\", \"00011001100110011001101\")  false\n",
      "('0', \"00000010\", \"00011001100110011001101\")  false\n",
      "('0', \"00000001\", \"00011001100110011001101\")  false\n",
      "('0', \"00000000\", \"10001100110011001100110\")  true\n",
      "('0', \"00000000\", \"01000110011001100110011\")  true\n",
      "('0', \"00000000\", \"00100011001100110011010\")  true\n",
      "('0', \"00000000\", \"00010001100110011001101\")  true\n",
      "('0', \"00000000\", \"00001000110011001100110\")  true\n",
      "('0', \"00000000\", \"00000100011001100110011\")  true\n",
      "('0', \"00000000\", \"00000010001100110011010\")  true\n",
      "('0', \"00000000\", \"00000001000110011001101\")  true\n",
      "('0', \"00000000\", \"00000000100011001100110\")  true\n",
      "('0', \"00000000\", \"00000000010001100110011\")  true\n",
      "('0', \"00000000\", \"00000000001000110011010\")  true\n",
      "('0', \"00000000\", \"00000000000100011001101\")  true\n",
      "('0', \"00000000\", \"00000000000010001100110\")  true\n",
      "('0', \"00000000\", \"00000000000001000110011\")  true\n",
      "('0', \"00000000\", \"00000000000000100011010\")  true\n",
      "('0', \"00000000\", \"00000000000000010001101\")  true\n",
      "('0', \"00000000\", \"00000000000000001000110\")  true\n",
      "('0', \"00000000\", \"00000000000000000100011\")  true\n",
      "('0', \"00000000\", \"00000000000000000010010\")  true\n",
      "('0', \"00000000\", \"00000000000000000001001\")  true\n",
      "('0', \"00000000\", \"00000000000000000000100\")  true\n",
      "('0', \"00000000\", \"00000000000000000000010\")  true\n",
      "('0', \"00000000\", \"00000000000000000000001\")  true\n"
     ]
    }
   ],
   "source": [
    "# Badanie postaci zdenormalizowanej. Co się dzieje, jak liczby są coraz mniejsze?\n",
    "a=Float32(1.1)\n",
    "for i=1:149\n",
    "    a=a/Float32(2.0)\n",
    "    println(decode(a), \"  \", issubnormal(a))\n",
    "end"
   ]
  },
  {
   "cell_type": "code",
   "execution_count": 1,
   "metadata": {},
   "outputs": [
    {
     "name": "stderr",
     "output_type": "stream",
     "text": [
      "┌ Info: Recompiling stale cache file /home/malen/.julia/compiled/v1.0/Plots/ld3vC.ji for Plots [91a5bcdd-55d7-5caf-9e0b-520d859cae80]\n",
      "└ @ Base loading.jl:1187\n"
     ]
    }
   ],
   "source": [
    "#Pkg.add(\"Plots\")\n",
    "# http://docs.juliaplots.org/latest/tutorial/\n",
    "using Plots"
   ]
  },
  {
   "cell_type": "code",
   "execution_count": 2,
   "metadata": {},
   "outputs": [
    {
     "data": {
      "image/svg+xml": [
       "<?xml version=\"1.0\" encoding=\"utf-8\"?>\n",
       "<svg xmlns=\"http://www.w3.org/2000/svg\" xmlns:xlink=\"http://www.w3.org/1999/xlink\" width=\"600\" height=\"400\" viewBox=\"0 0 2400 1600\">\n",
       "<defs>\n",
       "  <clipPath id=\"clip7500\">\n",
       "    <rect x=\"0\" y=\"0\" width=\"2000\" height=\"2000\"/>\n",
       "  </clipPath>\n",
       "</defs>\n",
       "<defs>\n",
       "  <clipPath id=\"clip7501\">\n",
       "    <rect x=\"0\" y=\"0\" width=\"2400\" height=\"1600\"/>\n",
       "  </clipPath>\n",
       "</defs>\n",
       "<polygon clip-path=\"url(#clip7501)\" points=\"\n",
       "0,1600 2400,1600 2400,0 0,0 \n",
       "  \" fill=\"#ffffff\" fill-opacity=\"1\"/>\n",
       "<defs>\n",
       "  <clipPath id=\"clip7502\">\n",
       "    <rect x=\"480\" y=\"0\" width=\"1681\" height=\"1600\"/>\n",
       "  </clipPath>\n",
       "</defs>\n",
       "<polygon clip-path=\"url(#clip7501)\" points=\"\n",
       "121.251,1503.47 2321.26,1503.47 2321.26,47.2441 121.251,47.2441 \n",
       "  \" fill=\"#ffffff\" fill-opacity=\"1\"/>\n",
       "<defs>\n",
       "  <clipPath id=\"clip7503\">\n",
       "    <rect x=\"121\" y=\"47\" width=\"2201\" height=\"1457\"/>\n",
       "  </clipPath>\n",
       "</defs>\n",
       "<polyline clip-path=\"url(#clip7503)\" style=\"stroke:#000000; stroke-width:2; stroke-opacity:0.1; fill:none\" points=\"\n",
       "  183.515,1503.47 183.515,47.2441 \n",
       "  \"/>\n",
       "<polyline clip-path=\"url(#clip7503)\" style=\"stroke:#000000; stroke-width:2; stroke-opacity:0.1; fill:none\" points=\"\n",
       "  702.385,1503.47 702.385,47.2441 \n",
       "  \"/>\n",
       "<polyline clip-path=\"url(#clip7503)\" style=\"stroke:#000000; stroke-width:2; stroke-opacity:0.1; fill:none\" points=\"\n",
       "  1221.26,1503.47 1221.26,47.2441 \n",
       "  \"/>\n",
       "<polyline clip-path=\"url(#clip7503)\" style=\"stroke:#000000; stroke-width:2; stroke-opacity:0.1; fill:none\" points=\"\n",
       "  1740.13,1503.47 1740.13,47.2441 \n",
       "  \"/>\n",
       "<polyline clip-path=\"url(#clip7503)\" style=\"stroke:#000000; stroke-width:2; stroke-opacity:0.1; fill:none\" points=\"\n",
       "  2259,1503.47 2259,47.2441 \n",
       "  \"/>\n",
       "<polyline clip-path=\"url(#clip7503)\" style=\"stroke:#000000; stroke-width:2; stroke-opacity:0.1; fill:none\" points=\"\n",
       "  121.251,1462.26 2321.26,1462.26 \n",
       "  \"/>\n",
       "<polyline clip-path=\"url(#clip7503)\" style=\"stroke:#000000; stroke-width:2; stroke-opacity:0.1; fill:none\" points=\"\n",
       "  121.251,1004.33 2321.26,1004.33 \n",
       "  \"/>\n",
       "<polyline clip-path=\"url(#clip7503)\" style=\"stroke:#000000; stroke-width:2; stroke-opacity:0.1; fill:none\" points=\"\n",
       "  121.251,546.392 2321.26,546.392 \n",
       "  \"/>\n",
       "<polyline clip-path=\"url(#clip7503)\" style=\"stroke:#000000; stroke-width:2; stroke-opacity:0.1; fill:none\" points=\"\n",
       "  121.251,88.4582 2321.26,88.4582 \n",
       "  \"/>\n",
       "<polyline clip-path=\"url(#clip7501)\" style=\"stroke:#000000; stroke-width:4; stroke-opacity:1; fill:none\" points=\"\n",
       "  121.251,1503.47 2321.26,1503.47 \n",
       "  \"/>\n",
       "<polyline clip-path=\"url(#clip7501)\" style=\"stroke:#000000; stroke-width:4; stroke-opacity:1; fill:none\" points=\"\n",
       "  121.251,1503.47 121.251,47.2441 \n",
       "  \"/>\n",
       "<polyline clip-path=\"url(#clip7501)\" style=\"stroke:#000000; stroke-width:4; stroke-opacity:1; fill:none\" points=\"\n",
       "  183.515,1503.47 183.515,1481.63 \n",
       "  \"/>\n",
       "<polyline clip-path=\"url(#clip7501)\" style=\"stroke:#000000; stroke-width:4; stroke-opacity:1; fill:none\" points=\"\n",
       "  702.385,1503.47 702.385,1481.63 \n",
       "  \"/>\n",
       "<polyline clip-path=\"url(#clip7501)\" style=\"stroke:#000000; stroke-width:4; stroke-opacity:1; fill:none\" points=\"\n",
       "  1221.26,1503.47 1221.26,1481.63 \n",
       "  \"/>\n",
       "<polyline clip-path=\"url(#clip7501)\" style=\"stroke:#000000; stroke-width:4; stroke-opacity:1; fill:none\" points=\"\n",
       "  1740.13,1503.47 1740.13,1481.63 \n",
       "  \"/>\n",
       "<polyline clip-path=\"url(#clip7501)\" style=\"stroke:#000000; stroke-width:4; stroke-opacity:1; fill:none\" points=\"\n",
       "  2259,1503.47 2259,1481.63 \n",
       "  \"/>\n",
       "<polyline clip-path=\"url(#clip7501)\" style=\"stroke:#000000; stroke-width:4; stroke-opacity:1; fill:none\" points=\"\n",
       "  121.251,1462.26 154.251,1462.26 \n",
       "  \"/>\n",
       "<polyline clip-path=\"url(#clip7501)\" style=\"stroke:#000000; stroke-width:4; stroke-opacity:1; fill:none\" points=\"\n",
       "  121.251,1004.33 154.251,1004.33 \n",
       "  \"/>\n",
       "<polyline clip-path=\"url(#clip7501)\" style=\"stroke:#000000; stroke-width:4; stroke-opacity:1; fill:none\" points=\"\n",
       "  121.251,546.392 154.251,546.392 \n",
       "  \"/>\n",
       "<polyline clip-path=\"url(#clip7501)\" style=\"stroke:#000000; stroke-width:4; stroke-opacity:1; fill:none\" points=\"\n",
       "  121.251,88.4582 154.251,88.4582 \n",
       "  \"/>\n",
       "<g clip-path=\"url(#clip7501)\">\n",
       "<text style=\"fill:#000000; fill-opacity:1; font-family:Arial,Helvetica Neue,Helvetica,sans-serif; font-size:48; text-anchor:middle;\" transform=\"rotate(0, 183.515, 1557.47)\" x=\"183.515\" y=\"1557.47\">1</text>\n",
       "</g>\n",
       "<g clip-path=\"url(#clip7501)\">\n",
       "<text style=\"fill:#000000; fill-opacity:1; font-family:Arial,Helvetica Neue,Helvetica,sans-serif; font-size:48; text-anchor:middle;\" transform=\"rotate(0, 702.385, 1557.47)\" x=\"702.385\" y=\"1557.47\">2</text>\n",
       "</g>\n",
       "<g clip-path=\"url(#clip7501)\">\n",
       "<text style=\"fill:#000000; fill-opacity:1; font-family:Arial,Helvetica Neue,Helvetica,sans-serif; font-size:48; text-anchor:middle;\" transform=\"rotate(0, 1221.26, 1557.47)\" x=\"1221.26\" y=\"1557.47\">3</text>\n",
       "</g>\n",
       "<g clip-path=\"url(#clip7501)\">\n",
       "<text style=\"fill:#000000; fill-opacity:1; font-family:Arial,Helvetica Neue,Helvetica,sans-serif; font-size:48; text-anchor:middle;\" transform=\"rotate(0, 1740.13, 1557.47)\" x=\"1740.13\" y=\"1557.47\">4</text>\n",
       "</g>\n",
       "<g clip-path=\"url(#clip7501)\">\n",
       "<text style=\"fill:#000000; fill-opacity:1; font-family:Arial,Helvetica Neue,Helvetica,sans-serif; font-size:48; text-anchor:middle;\" transform=\"rotate(0, 2259, 1557.47)\" x=\"2259\" y=\"1557.47\">5</text>\n",
       "</g>\n",
       "<g clip-path=\"url(#clip7501)\">\n",
       "<text style=\"fill:#000000; fill-opacity:1; font-family:Arial,Helvetica Neue,Helvetica,sans-serif; font-size:48; text-anchor:end;\" transform=\"rotate(0, 97.2505, 1479.76)\" x=\"97.2505\" y=\"1479.76\">2</text>\n",
       "</g>\n",
       "<g clip-path=\"url(#clip7501)\">\n",
       "<text style=\"fill:#000000; fill-opacity:1; font-family:Arial,Helvetica Neue,Helvetica,sans-serif; font-size:48; text-anchor:end;\" transform=\"rotate(0, 97.2505, 1021.83)\" x=\"97.2505\" y=\"1021.83\">3</text>\n",
       "</g>\n",
       "<g clip-path=\"url(#clip7501)\">\n",
       "<text style=\"fill:#000000; fill-opacity:1; font-family:Arial,Helvetica Neue,Helvetica,sans-serif; font-size:48; text-anchor:end;\" transform=\"rotate(0, 97.2505, 563.892)\" x=\"97.2505\" y=\"563.892\">4</text>\n",
       "</g>\n",
       "<g clip-path=\"url(#clip7501)\">\n",
       "<text style=\"fill:#000000; fill-opacity:1; font-family:Arial,Helvetica Neue,Helvetica,sans-serif; font-size:48; text-anchor:end;\" transform=\"rotate(0, 97.2505, 105.958)\" x=\"97.2505\" y=\"105.958\">5</text>\n",
       "</g>\n",
       "<circle clip-path=\"url(#clip7503)\" style=\"fill:#000000; stroke:none; fill-opacity:1\" cx=\"183.515\" cy=\"1462.26\" r=\"18\"/>\n",
       "<circle clip-path=\"url(#clip7503)\" style=\"fill:#009af9; stroke:none; fill-opacity:1\" cx=\"183.515\" cy=\"1462.26\" r=\"14\"/>\n",
       "<circle clip-path=\"url(#clip7503)\" style=\"fill:#000000; stroke:none; fill-opacity:1\" cx=\"702.385\" cy=\"1462.26\" r=\"18\"/>\n",
       "<circle clip-path=\"url(#clip7503)\" style=\"fill:#009af9; stroke:none; fill-opacity:1\" cx=\"702.385\" cy=\"1462.26\" r=\"14\"/>\n",
       "<circle clip-path=\"url(#clip7503)\" style=\"fill:#000000; stroke:none; fill-opacity:1\" cx=\"1221.26\" cy=\"1004.33\" r=\"18\"/>\n",
       "<circle clip-path=\"url(#clip7503)\" style=\"fill:#009af9; stroke:none; fill-opacity:1\" cx=\"1221.26\" cy=\"1004.33\" r=\"14\"/>\n",
       "<circle clip-path=\"url(#clip7503)\" style=\"fill:#000000; stroke:none; fill-opacity:1\" cx=\"1740.13\" cy=\"1004.33\" r=\"18\"/>\n",
       "<circle clip-path=\"url(#clip7503)\" style=\"fill:#009af9; stroke:none; fill-opacity:1\" cx=\"1740.13\" cy=\"1004.33\" r=\"14\"/>\n",
       "<circle clip-path=\"url(#clip7503)\" style=\"fill:#000000; stroke:none; fill-opacity:1\" cx=\"2259\" cy=\"88.4582\" r=\"18\"/>\n",
       "<circle clip-path=\"url(#clip7503)\" style=\"fill:#009af9; stroke:none; fill-opacity:1\" cx=\"2259\" cy=\"88.4582\" r=\"14\"/>\n",
       "<polygon clip-path=\"url(#clip7501)\" points=\"\n",
       "1958.43,251.724 2249.26,251.724 2249.26,130.764 1958.43,130.764 \n",
       "  \" fill=\"#ffffff\" fill-opacity=\"1\"/>\n",
       "<polyline clip-path=\"url(#clip7501)\" style=\"stroke:#000000; stroke-width:4; stroke-opacity:1; fill:none\" points=\"\n",
       "  1958.43,251.724 2249.26,251.724 2249.26,130.764 1958.43,130.764 1958.43,251.724 \n",
       "  \"/>\n",
       "<circle clip-path=\"url(#clip7501)\" style=\"fill:#000000; stroke:none; fill-opacity:1\" cx=\"2066.43\" cy=\"191.244\" r=\"25\"/>\n",
       "<circle clip-path=\"url(#clip7501)\" style=\"fill:#009af9; stroke:none; fill-opacity:1\" cx=\"2066.43\" cy=\"191.244\" r=\"21\"/>\n",
       "<g clip-path=\"url(#clip7501)\">\n",
       "<text style=\"fill:#000000; fill-opacity:1; font-family:Arial,Helvetica Neue,Helvetica,sans-serif; font-size:48; text-anchor:start;\" transform=\"rotate(0, 2150.43, 208.744)\" x=\"2150.43\" y=\"208.744\">y1</text>\n",
       "</g>\n",
       "</svg>\n"
      ]
     },
     "execution_count": 2,
     "metadata": {},
     "output_type": "execute_result"
    }
   ],
   "source": [
    "scatter(1:1:5, [2,2,3,3,5])"
   ]
  },
  {
   "cell_type": "markdown",
   "metadata": {},
   "source": [
    "<b> Zadanie 1 </b>  Porównać w języku Julia reprezentację bitową liczby 1/3 dla Float32, Float64 oraz liczby, \n",
    "która jest inicjalizowana jako Float32, a potem rzutowana na Float64."
   ]
  },
  {
   "cell_type": "code",
   "execution_count": 3,
   "metadata": {},
   "outputs": [
    {
     "data": {
      "text/plain": [
       "\"00111110101010101010101010101011\""
      ]
     },
     "execution_count": 3,
     "metadata": {},
     "output_type": "execute_result"
    }
   ],
   "source": [
    "bitstring(Float32(1/3))"
   ]
  },
  {
   "cell_type": "code",
   "execution_count": 4,
   "metadata": {},
   "outputs": [
    {
     "data": {
      "text/plain": [
       "\"0011111111010101010101010101010101010101010101010101010101010101\""
      ]
     },
     "execution_count": 4,
     "metadata": {},
     "output_type": "execute_result"
    }
   ],
   "source": [
    "bitstring(Float64(1/3))"
   ]
  },
  {
   "cell_type": "code",
   "execution_count": 5,
   "metadata": {},
   "outputs": [
    {
     "data": {
      "text/plain": [
       "\"0011111111010101010101010101010101100000000000000000000000000000\""
      ]
     },
     "execution_count": 5,
     "metadata": {},
     "output_type": "execute_result"
    }
   ],
   "source": [
    "bitstring(Float64(Float32(1/3)))"
   ]
  },
  {
   "cell_type": "markdown",
   "metadata": {},
   "source": [
    "<b>Zadanie 2</b> Zbadać, jak zmienia się odległość między kolejnymi liczbami zminnoprzecinkowymi \n",
    "reprezentowanymi w komputerze za pomocą języka Julia. \n",
    "Narysować wykres używając Plots zależności odległości od wartości liczby dla zakresu  od 1.0 do 1000.0 z krokiem 1.0."
   ]
  },
  {
   "cell_type": "code",
   "execution_count": 8,
   "metadata": {},
   "outputs": [
    {
     "data": {
      "image/svg+xml": [
       "<?xml version=\"1.0\" encoding=\"utf-8\"?>\n",
       "<svg xmlns=\"http://www.w3.org/2000/svg\" xmlns:xlink=\"http://www.w3.org/1999/xlink\" width=\"600\" height=\"400\" viewBox=\"0 0 2400 1600\">\n",
       "<defs>\n",
       "  <clipPath id=\"clip7900\">\n",
       "    <rect x=\"0\" y=\"0\" width=\"2000\" height=\"2000\"/>\n",
       "  </clipPath>\n",
       "</defs>\n",
       "<defs>\n",
       "  <clipPath id=\"clip7901\">\n",
       "    <rect x=\"0\" y=\"0\" width=\"2400\" height=\"1600\"/>\n",
       "  </clipPath>\n",
       "</defs>\n",
       "<polygon clip-path=\"url(#clip7901)\" points=\"\n",
       "0,1600 2400,1600 2400,0 0,0 \n",
       "  \" fill=\"#ffffff\" fill-opacity=\"1\"/>\n",
       "<defs>\n",
       "  <clipPath id=\"clip7902\">\n",
       "    <rect x=\"480\" y=\"0\" width=\"1681\" height=\"1600\"/>\n",
       "  </clipPath>\n",
       "</defs>\n",
       "<polygon clip-path=\"url(#clip7901)\" points=\"\n",
       "778.709,1503.47 2321.26,1503.47 2321.26,47.2441 778.709,47.2441 \n",
       "  \" fill=\"#ffffff\" fill-opacity=\"1\"/>\n",
       "<defs>\n",
       "  <clipPath id=\"clip7903\">\n",
       "    <rect x=\"778\" y=\"47\" width=\"1544\" height=\"1457\"/>\n",
       "  </clipPath>\n",
       "</defs>\n",
       "<polyline clip-path=\"url(#clip7903)\" style=\"stroke:#000000; stroke-width:2; stroke-opacity:0.1; fill:none\" points=\"\n",
       "  820.909,1503.47 820.909,47.2441 \n",
       "  \"/>\n",
       "<polyline clip-path=\"url(#clip7903)\" style=\"stroke:#000000; stroke-width:2; stroke-opacity:0.1; fill:none\" points=\"\n",
       "  1185.08,1503.47 1185.08,47.2441 \n",
       "  \"/>\n",
       "<polyline clip-path=\"url(#clip7903)\" style=\"stroke:#000000; stroke-width:2; stroke-opacity:0.1; fill:none\" points=\"\n",
       "  1549.26,1503.47 1549.26,47.2441 \n",
       "  \"/>\n",
       "<polyline clip-path=\"url(#clip7903)\" style=\"stroke:#000000; stroke-width:2; stroke-opacity:0.1; fill:none\" points=\"\n",
       "  1913.43,1503.47 1913.43,47.2441 \n",
       "  \"/>\n",
       "<polyline clip-path=\"url(#clip7903)\" style=\"stroke:#000000; stroke-width:2; stroke-opacity:0.1; fill:none\" points=\"\n",
       "  2277.6,1503.47 2277.6,47.2441 \n",
       "  \"/>\n",
       "<polyline clip-path=\"url(#clip7903)\" style=\"stroke:#000000; stroke-width:2; stroke-opacity:0.1; fill:none\" points=\"\n",
       "  778.709,1464.95 2321.26,1464.95 \n",
       "  \"/>\n",
       "<polyline clip-path=\"url(#clip7903)\" style=\"stroke:#000000; stroke-width:2; stroke-opacity:0.1; fill:none\" points=\"\n",
       "  778.709,1162.26 2321.26,1162.26 \n",
       "  \"/>\n",
       "<polyline clip-path=\"url(#clip7903)\" style=\"stroke:#000000; stroke-width:2; stroke-opacity:0.1; fill:none\" points=\"\n",
       "  778.709,859.562 2321.26,859.562 \n",
       "  \"/>\n",
       "<polyline clip-path=\"url(#clip7903)\" style=\"stroke:#000000; stroke-width:2; stroke-opacity:0.1; fill:none\" points=\"\n",
       "  778.709,556.868 2321.26,556.868 \n",
       "  \"/>\n",
       "<polyline clip-path=\"url(#clip7903)\" style=\"stroke:#000000; stroke-width:2; stroke-opacity:0.1; fill:none\" points=\"\n",
       "  778.709,254.175 2321.26,254.175 \n",
       "  \"/>\n",
       "<polyline clip-path=\"url(#clip7901)\" style=\"stroke:#000000; stroke-width:4; stroke-opacity:1; fill:none\" points=\"\n",
       "  778.709,1503.47 2321.26,1503.47 \n",
       "  \"/>\n",
       "<polyline clip-path=\"url(#clip7901)\" style=\"stroke:#000000; stroke-width:4; stroke-opacity:1; fill:none\" points=\"\n",
       "  778.709,1503.47 778.709,47.2441 \n",
       "  \"/>\n",
       "<polyline clip-path=\"url(#clip7901)\" style=\"stroke:#000000; stroke-width:4; stroke-opacity:1; fill:none\" points=\"\n",
       "  820.909,1503.47 820.909,1481.63 \n",
       "  \"/>\n",
       "<polyline clip-path=\"url(#clip7901)\" style=\"stroke:#000000; stroke-width:4; stroke-opacity:1; fill:none\" points=\"\n",
       "  1185.08,1503.47 1185.08,1481.63 \n",
       "  \"/>\n",
       "<polyline clip-path=\"url(#clip7901)\" style=\"stroke:#000000; stroke-width:4; stroke-opacity:1; fill:none\" points=\"\n",
       "  1549.26,1503.47 1549.26,1481.63 \n",
       "  \"/>\n",
       "<polyline clip-path=\"url(#clip7901)\" style=\"stroke:#000000; stroke-width:4; stroke-opacity:1; fill:none\" points=\"\n",
       "  1913.43,1503.47 1913.43,1481.63 \n",
       "  \"/>\n",
       "<polyline clip-path=\"url(#clip7901)\" style=\"stroke:#000000; stroke-width:4; stroke-opacity:1; fill:none\" points=\"\n",
       "  2277.6,1503.47 2277.6,1481.63 \n",
       "  \"/>\n",
       "<polyline clip-path=\"url(#clip7901)\" style=\"stroke:#000000; stroke-width:4; stroke-opacity:1; fill:none\" points=\"\n",
       "  778.709,1464.95 801.847,1464.95 \n",
       "  \"/>\n",
       "<polyline clip-path=\"url(#clip7901)\" style=\"stroke:#000000; stroke-width:4; stroke-opacity:1; fill:none\" points=\"\n",
       "  778.709,1162.26 801.847,1162.26 \n",
       "  \"/>\n",
       "<polyline clip-path=\"url(#clip7901)\" style=\"stroke:#000000; stroke-width:4; stroke-opacity:1; fill:none\" points=\"\n",
       "  778.709,859.562 801.847,859.562 \n",
       "  \"/>\n",
       "<polyline clip-path=\"url(#clip7901)\" style=\"stroke:#000000; stroke-width:4; stroke-opacity:1; fill:none\" points=\"\n",
       "  778.709,556.868 801.847,556.868 \n",
       "  \"/>\n",
       "<polyline clip-path=\"url(#clip7901)\" style=\"stroke:#000000; stroke-width:4; stroke-opacity:1; fill:none\" points=\"\n",
       "  778.709,254.175 801.847,254.175 \n",
       "  \"/>\n",
       "<g clip-path=\"url(#clip7901)\">\n",
       "<text style=\"fill:#000000; fill-opacity:1; font-family:Arial,Helvetica Neue,Helvetica,sans-serif; font-size:48; text-anchor:middle;\" transform=\"rotate(0, 820.909, 1557.47)\" x=\"820.909\" y=\"1557.47\">0</text>\n",
       "</g>\n",
       "<g clip-path=\"url(#clip7901)\">\n",
       "<text style=\"fill:#000000; fill-opacity:1; font-family:Arial,Helvetica Neue,Helvetica,sans-serif; font-size:48; text-anchor:middle;\" transform=\"rotate(0, 1185.08, 1557.47)\" x=\"1185.08\" y=\"1557.47\">250</text>\n",
       "</g>\n",
       "<g clip-path=\"url(#clip7901)\">\n",
       "<text style=\"fill:#000000; fill-opacity:1; font-family:Arial,Helvetica Neue,Helvetica,sans-serif; font-size:48; text-anchor:middle;\" transform=\"rotate(0, 1549.26, 1557.47)\" x=\"1549.26\" y=\"1557.47\">500</text>\n",
       "</g>\n",
       "<g clip-path=\"url(#clip7901)\">\n",
       "<text style=\"fill:#000000; fill-opacity:1; font-family:Arial,Helvetica Neue,Helvetica,sans-serif; font-size:48; text-anchor:middle;\" transform=\"rotate(0, 1913.43, 1557.47)\" x=\"1913.43\" y=\"1557.47\">750</text>\n",
       "</g>\n",
       "<g clip-path=\"url(#clip7901)\">\n",
       "<text style=\"fill:#000000; fill-opacity:1; font-family:Arial,Helvetica Neue,Helvetica,sans-serif; font-size:48; text-anchor:middle;\" transform=\"rotate(0, 2277.6, 1557.47)\" x=\"2277.6\" y=\"1557.47\">1000</text>\n",
       "</g>\n",
       "<g clip-path=\"url(#clip7901)\">\n",
       "<text style=\"fill:#000000; fill-opacity:1; font-family:Arial,Helvetica Neue,Helvetica,sans-serif; font-size:48; text-anchor:end;\" transform=\"rotate(0, 754.709, 1482.45)\" x=\"754.709\" y=\"1482.45\">0</text>\n",
       "</g>\n",
       "<g clip-path=\"url(#clip7901)\">\n",
       "<text style=\"fill:#000000; fill-opacity:1; font-family:Arial,Helvetica Neue,Helvetica,sans-serif; font-size:48; text-anchor:start;\" transform=\"rotate(0, 539.84, 1185.98)\" x=\"539.84\" y=\"1185.98\">2.5×10</text>\n",
       "</g>\n",
       "<g clip-path=\"url(#clip7901)\">\n",
       "<text style=\"fill:#000000; fill-opacity:1; font-family:Arial,Helvetica Neue,Helvetica,sans-serif; font-size:38; text-anchor:start;\" transform=\"rotate(0, 688.381, 1158.57)\" x=\"688.381\" y=\"1158.57\">-</text>\n",
       "</g>\n",
       "<g clip-path=\"url(#clip7901)\">\n",
       "<text style=\"fill:#000000; fill-opacity:1; font-family:Arial,Helvetica Neue,Helvetica,sans-serif; font-size:38; text-anchor:start;\" transform=\"rotate(0, 711.22, 1158.57)\" x=\"711.22\" y=\"1158.57\">14</text>\n",
       "</g>\n",
       "<g clip-path=\"url(#clip7901)\">\n",
       "<text style=\"fill:#000000; fill-opacity:1; font-family:Arial,Helvetica Neue,Helvetica,sans-serif; font-size:48; text-anchor:start;\" transform=\"rotate(0, 539.84, 883.29)\" x=\"539.84\" y=\"883.29\">5.0×10</text>\n",
       "</g>\n",
       "<g clip-path=\"url(#clip7901)\">\n",
       "<text style=\"fill:#000000; fill-opacity:1; font-family:Arial,Helvetica Neue,Helvetica,sans-serif; font-size:38; text-anchor:start;\" transform=\"rotate(0, 688.381, 855.879)\" x=\"688.381\" y=\"855.879\">-</text>\n",
       "</g>\n",
       "<g clip-path=\"url(#clip7901)\">\n",
       "<text style=\"fill:#000000; fill-opacity:1; font-family:Arial,Helvetica Neue,Helvetica,sans-serif; font-size:38; text-anchor:start;\" transform=\"rotate(0, 711.22, 855.879)\" x=\"711.22\" y=\"855.879\">14</text>\n",
       "</g>\n",
       "<g clip-path=\"url(#clip7901)\">\n",
       "<text style=\"fill:#000000; fill-opacity:1; font-family:Arial,Helvetica Neue,Helvetica,sans-serif; font-size:48; text-anchor:start;\" transform=\"rotate(0, 138.405, 580.596)\" x=\"138.405\" y=\"580.596\">7.5000000000000009×10</text>\n",
       "</g>\n",
       "<g clip-path=\"url(#clip7901)\">\n",
       "<text style=\"fill:#000000; fill-opacity:1; font-family:Arial,Helvetica Neue,Helvetica,sans-serif; font-size:38; text-anchor:start;\" transform=\"rotate(0, 688.381, 553.186)\" x=\"688.381\" y=\"553.186\">-</text>\n",
       "</g>\n",
       "<g clip-path=\"url(#clip7901)\">\n",
       "<text style=\"fill:#000000; fill-opacity:1; font-family:Arial,Helvetica Neue,Helvetica,sans-serif; font-size:38; text-anchor:start;\" transform=\"rotate(0, 711.22, 553.186)\" x=\"711.22\" y=\"553.186\">14</text>\n",
       "</g>\n",
       "<g clip-path=\"url(#clip7901)\">\n",
       "<text style=\"fill:#000000; fill-opacity:1; font-family:Arial,Helvetica Neue,Helvetica,sans-serif; font-size:48; text-anchor:start;\" transform=\"rotate(0, 539.84, 277.902)\" x=\"539.84\" y=\"277.902\">1.0×10</text>\n",
       "</g>\n",
       "<g clip-path=\"url(#clip7901)\">\n",
       "<text style=\"fill:#000000; fill-opacity:1; font-family:Arial,Helvetica Neue,Helvetica,sans-serif; font-size:38; text-anchor:start;\" transform=\"rotate(0, 688.381, 250.492)\" x=\"688.381\" y=\"250.492\">-</text>\n",
       "</g>\n",
       "<g clip-path=\"url(#clip7901)\">\n",
       "<text style=\"fill:#000000; fill-opacity:1; font-family:Arial,Helvetica Neue,Helvetica,sans-serif; font-size:38; text-anchor:start;\" transform=\"rotate(0, 711.22, 250.492)\" x=\"711.22\" y=\"250.492\">13</text>\n",
       "</g>\n",
       "<polyline clip-path=\"url(#clip7903)\" style=\"stroke:#009af9; stroke-width:4; stroke-opacity:1; fill:none\" points=\"\n",
       "  822.366,1462.26 823.823,1459.57 825.279,1459.57 826.736,1454.2 828.193,1454.2 829.649,1454.2 831.106,1454.2 832.563,1443.44 834.019,1443.44 835.476,1443.44 \n",
       "  836.933,1443.44 838.39,1443.44 839.846,1443.44 841.303,1443.44 842.76,1443.44 844.216,1421.93 845.673,1421.93 847.13,1421.93 848.586,1421.93 850.043,1421.93 \n",
       "  851.5,1421.93 852.956,1421.93 854.413,1421.93 855.87,1421.93 857.327,1421.93 858.783,1421.93 860.24,1421.93 861.697,1421.93 863.153,1421.93 864.61,1421.93 \n",
       "  866.067,1421.93 867.523,1378.92 868.98,1378.92 870.437,1378.92 871.893,1378.92 873.35,1378.92 874.807,1378.92 876.264,1378.92 877.72,1378.92 879.177,1378.92 \n",
       "  880.634,1378.92 882.09,1378.92 883.547,1378.92 885.004,1378.92 886.46,1378.92 887.917,1378.92 889.374,1378.92 890.831,1378.92 892.287,1378.92 893.744,1378.92 \n",
       "  895.201,1378.92 896.657,1378.92 898.114,1378.92 899.571,1378.92 901.027,1378.92 902.484,1378.92 903.941,1378.92 905.397,1378.92 906.854,1378.92 908.311,1378.92 \n",
       "  909.768,1378.92 911.224,1378.92 912.681,1378.92 914.138,1292.89 915.594,1292.89 917.051,1292.89 918.508,1292.89 919.964,1292.89 921.421,1292.89 922.878,1292.89 \n",
       "  924.334,1292.89 925.791,1292.89 927.248,1292.89 928.705,1292.89 930.161,1292.89 931.618,1292.89 933.075,1292.89 934.531,1292.89 935.988,1292.89 937.445,1292.89 \n",
       "  938.901,1292.89 940.358,1292.89 941.815,1292.89 943.271,1292.89 944.728,1292.89 946.185,1292.89 947.642,1292.89 949.098,1292.89 950.555,1292.89 952.012,1292.89 \n",
       "  953.468,1292.89 954.925,1292.89 956.382,1292.89 957.838,1292.89 959.295,1292.89 960.752,1292.89 962.208,1292.89 963.665,1292.89 965.122,1292.89 966.579,1292.89 \n",
       "  968.035,1292.89 969.492,1292.89 970.949,1292.89 972.405,1292.89 973.862,1292.89 975.319,1292.89 976.775,1292.89 978.232,1292.89 979.689,1292.89 981.146,1292.89 \n",
       "  982.602,1292.89 984.059,1292.89 985.516,1292.89 986.972,1292.89 988.429,1292.89 989.886,1292.89 991.342,1292.89 992.799,1292.89 994.256,1292.89 995.712,1292.89 \n",
       "  997.169,1292.89 998.626,1292.89 1000.08,1292.89 1001.54,1292.89 1003,1292.89 1004.45,1292.89 1005.91,1292.89 1007.37,1120.83 1008.82,1120.83 1010.28,1120.83 \n",
       "  1011.74,1120.83 1013.19,1120.83 1014.65,1120.83 1016.11,1120.83 1017.56,1120.83 1019.02,1120.83 1020.48,1120.83 1021.93,1120.83 1023.39,1120.83 1024.85,1120.83 \n",
       "  1026.3,1120.83 1027.76,1120.83 1029.22,1120.83 1030.67,1120.83 1032.13,1120.83 1033.59,1120.83 1035.04,1120.83 1036.5,1120.83 1037.96,1120.83 1039.41,1120.83 \n",
       "  1040.87,1120.83 1042.33,1120.83 1043.78,1120.83 1045.24,1120.83 1046.7,1120.83 1048.15,1120.83 1049.61,1120.83 1051.07,1120.83 1052.52,1120.83 1053.98,1120.83 \n",
       "  1055.44,1120.83 1056.89,1120.83 1058.35,1120.83 1059.81,1120.83 1061.26,1120.83 1062.72,1120.83 1064.18,1120.83 1065.63,1120.83 1067.09,1120.83 1068.55,1120.83 \n",
       "  1070,1120.83 1071.46,1120.83 1072.92,1120.83 1074.37,1120.83 1075.83,1120.83 1077.29,1120.83 1078.74,1120.83 1080.2,1120.83 1081.66,1120.83 1083.11,1120.83 \n",
       "  1084.57,1120.83 1086.03,1120.83 1087.48,1120.83 1088.94,1120.83 1090.4,1120.83 1091.85,1120.83 1093.31,1120.83 1094.77,1120.83 1096.22,1120.83 1097.68,1120.83 \n",
       "  1099.14,1120.83 1100.59,1120.83 1102.05,1120.83 1103.51,1120.83 1104.96,1120.83 1106.42,1120.83 1107.88,1120.83 1109.33,1120.83 1110.79,1120.83 1112.25,1120.83 \n",
       "  1113.7,1120.83 1115.16,1120.83 1116.62,1120.83 1118.07,1120.83 1119.53,1120.83 1120.99,1120.83 1122.44,1120.83 1123.9,1120.83 1125.36,1120.83 1126.81,1120.83 \n",
       "  1128.27,1120.83 1129.73,1120.83 1131.18,1120.83 1132.64,1120.83 1134.1,1120.83 1135.56,1120.83 1137.01,1120.83 1138.47,1120.83 1139.93,1120.83 1141.38,1120.83 \n",
       "  1142.84,1120.83 1144.3,1120.83 1145.75,1120.83 1147.21,1120.83 1148.67,1120.83 1150.12,1120.83 1151.58,1120.83 1153.04,1120.83 1154.49,1120.83 1155.95,1120.83 \n",
       "  1157.41,1120.83 1158.86,1120.83 1160.32,1120.83 1161.78,1120.83 1163.23,1120.83 1164.69,1120.83 1166.15,1120.83 1167.6,1120.83 1169.06,1120.83 1170.52,1120.83 \n",
       "  1171.97,1120.83 1173.43,1120.83 1174.89,1120.83 1176.34,1120.83 1177.8,1120.83 1179.26,1120.83 1180.71,1120.83 1182.17,1120.83 1183.63,1120.83 1185.08,1120.83 \n",
       "  1186.54,1120.83 1188,1120.83 1189.45,1120.83 1190.91,1120.83 1192.37,1120.83 1193.82,776.704 1195.28,776.704 1196.74,776.704 1198.19,776.704 1199.65,776.704 \n",
       "  1201.11,776.704 1202.56,776.704 1204.02,776.704 1205.48,776.704 1206.93,776.704 1208.39,776.704 1209.85,776.704 1211.3,776.704 1212.76,776.704 1214.22,776.704 \n",
       "  1215.67,776.704 1217.13,776.704 1218.59,776.704 1220.04,776.704 1221.5,776.704 1222.96,776.704 1224.41,776.704 1225.87,776.704 1227.33,776.704 1228.78,776.704 \n",
       "  1230.24,776.704 1231.7,776.704 1233.15,776.704 1234.61,776.704 1236.07,776.704 1237.52,776.704 1238.98,776.704 1240.44,776.704 1241.89,776.704 1243.35,776.704 \n",
       "  1244.81,776.704 1246.26,776.704 1247.72,776.704 1249.18,776.704 1250.63,776.704 1252.09,776.704 1253.55,776.704 1255,776.704 1256.46,776.704 1257.92,776.704 \n",
       "  1259.37,776.704 1260.83,776.704 1262.29,776.704 1263.74,776.704 1265.2,776.704 1266.66,776.704 1268.11,776.704 1269.57,776.704 1271.03,776.704 1272.48,776.704 \n",
       "  1273.94,776.704 1275.4,776.704 1276.85,776.704 1278.31,776.704 1279.77,776.704 1281.22,776.704 1282.68,776.704 1284.14,776.704 1285.59,776.704 1287.05,776.704 \n",
       "  1288.51,776.704 1289.96,776.704 1291.42,776.704 1292.88,776.704 1294.33,776.704 1295.79,776.704 1297.25,776.704 1298.7,776.704 1300.16,776.704 1301.62,776.704 \n",
       "  1303.07,776.704 1304.53,776.704 1305.99,776.704 1307.44,776.704 1308.9,776.704 1310.36,776.704 1311.81,776.704 1313.27,776.704 1314.73,776.704 1316.19,776.704 \n",
       "  1317.64,776.704 1319.1,776.704 1320.56,776.704 1322.01,776.704 1323.47,776.704 1324.93,776.704 1326.38,776.704 1327.84,776.704 1329.3,776.704 1330.75,776.704 \n",
       "  1332.21,776.704 1333.67,776.704 1335.12,776.704 1336.58,776.704 1338.04,776.704 1339.49,776.704 1340.95,776.704 1342.41,776.704 1343.86,776.704 1345.32,776.704 \n",
       "  1346.78,776.704 1348.23,776.704 1349.69,776.704 1351.15,776.704 1352.6,776.704 1354.06,776.704 1355.52,776.704 1356.97,776.704 1358.43,776.704 1359.89,776.704 \n",
       "  1361.34,776.704 1362.8,776.704 1364.26,776.704 1365.71,776.704 1367.17,776.704 1368.63,776.704 1370.08,776.704 1371.54,776.704 1373,776.704 1374.45,776.704 \n",
       "  1375.91,776.704 1377.37,776.704 1378.82,776.704 1380.28,776.704 1381.74,776.704 1383.19,776.704 1384.65,776.704 1386.11,776.704 1387.56,776.704 1389.02,776.704 \n",
       "  1390.48,776.704 1391.93,776.704 1393.39,776.704 1394.85,776.704 1396.3,776.704 1397.76,776.704 1399.22,776.704 1400.67,776.704 1402.13,776.704 1403.59,776.704 \n",
       "  1405.04,776.704 1406.5,776.704 1407.96,776.704 1409.41,776.704 1410.87,776.704 1412.33,776.704 1413.78,776.704 1415.24,776.704 1416.7,776.704 1418.15,776.704 \n",
       "  1419.61,776.704 1421.07,776.704 1422.52,776.704 1423.98,776.704 1425.44,776.704 1426.89,776.704 1428.35,776.704 1429.81,776.704 1431.26,776.704 1432.72,776.704 \n",
       "  1434.18,776.704 1435.63,776.704 1437.09,776.704 1438.55,776.704 1440,776.704 1441.46,776.704 1442.92,776.704 1444.37,776.704 1445.83,776.704 1447.29,776.704 \n",
       "  1448.74,776.704 1450.2,776.704 1451.66,776.704 1453.11,776.704 1454.57,776.704 1456.03,776.704 1457.48,776.704 1458.94,776.704 1460.4,776.704 1461.85,776.704 \n",
       "  1463.31,776.704 1464.77,776.704 1466.22,776.704 1467.68,776.704 1469.14,776.704 1470.59,776.704 1472.05,776.704 1473.51,776.704 1474.96,776.704 1476.42,776.704 \n",
       "  1477.88,776.704 1479.33,776.704 1480.79,776.704 1482.25,776.704 1483.7,776.704 1485.16,776.704 1486.62,776.704 1488.07,776.704 1489.53,776.704 1490.99,776.704 \n",
       "  1492.44,776.704 1493.9,776.704 1495.36,776.704 1496.82,776.704 1498.27,776.704 1499.73,776.704 1501.19,776.704 1502.64,776.704 1504.1,776.704 1505.56,776.704 \n",
       "  1507.01,776.704 1508.47,776.704 1509.93,776.704 1511.38,776.704 1512.84,776.704 1514.3,776.704 1515.75,776.704 1517.21,776.704 1518.67,776.704 1520.12,776.704 \n",
       "  1521.58,776.704 1523.04,776.704 1524.49,776.704 1525.95,776.704 1527.41,776.704 1528.86,776.704 1530.32,776.704 1531.78,776.704 1533.23,776.704 1534.69,776.704 \n",
       "  1536.15,776.704 1537.6,776.704 1539.06,776.704 1540.52,776.704 1541.97,776.704 1543.43,776.704 1544.89,776.704 1546.34,776.704 1547.8,776.704 1549.26,776.704 \n",
       "  1550.71,776.704 1552.17,776.704 1553.63,776.704 1555.08,776.704 1556.54,776.704 1558,776.704 1559.45,776.704 1560.91,776.704 1562.37,776.704 1563.82,776.704 \n",
       "  1565.28,776.704 1566.74,88.4582 1568.19,88.4582 1569.65,88.4582 1571.11,88.4582 1572.56,88.4582 1574.02,88.4582 1575.48,88.4582 1576.93,88.4582 1578.39,88.4582 \n",
       "  1579.85,88.4582 1581.3,88.4582 1582.76,88.4582 1584.22,88.4582 1585.67,88.4582 1587.13,88.4582 1588.59,88.4582 1590.04,88.4582 1591.5,88.4582 1592.96,88.4582 \n",
       "  1594.41,88.4582 1595.87,88.4582 1597.33,88.4582 1598.78,88.4582 1600.24,88.4582 1601.7,88.4582 1603.15,88.4582 1604.61,88.4582 1606.07,88.4582 1607.52,88.4582 \n",
       "  1608.98,88.4582 1610.44,88.4582 1611.89,88.4582 1613.35,88.4582 1614.81,88.4582 1616.26,88.4582 1617.72,88.4582 1619.18,88.4582 1620.63,88.4582 1622.09,88.4582 \n",
       "  1623.55,88.4582 1625,88.4582 1626.46,88.4582 1627.92,88.4582 1629.37,88.4582 1630.83,88.4582 1632.29,88.4582 1633.74,88.4582 1635.2,88.4582 1636.66,88.4582 \n",
       "  1638.11,88.4582 1639.57,88.4582 1641.03,88.4582 1642.48,88.4582 1643.94,88.4582 1645.4,88.4582 1646.85,88.4582 1648.31,88.4582 1649.77,88.4582 1651.22,88.4582 \n",
       "  1652.68,88.4582 1654.14,88.4582 1655.59,88.4582 1657.05,88.4582 1658.51,88.4582 1659.96,88.4582 1661.42,88.4582 1662.88,88.4582 1664.33,88.4582 1665.79,88.4582 \n",
       "  1667.25,88.4582 1668.7,88.4582 1670.16,88.4582 1671.62,88.4582 1673.07,88.4582 1674.53,88.4582 1675.99,88.4582 1677.45,88.4582 1678.9,88.4582 1680.36,88.4582 \n",
       "  1681.82,88.4582 1683.27,88.4582 1684.73,88.4582 1686.19,88.4582 1687.64,88.4582 1689.1,88.4582 1690.56,88.4582 1692.01,88.4582 1693.47,88.4582 1694.93,88.4582 \n",
       "  1696.38,88.4582 1697.84,88.4582 1699.3,88.4582 1700.75,88.4582 1702.21,88.4582 1703.67,88.4582 1705.12,88.4582 1706.58,88.4582 1708.04,88.4582 1709.49,88.4582 \n",
       "  1710.95,88.4582 1712.41,88.4582 1713.86,88.4582 1715.32,88.4582 1716.78,88.4582 1718.23,88.4582 1719.69,88.4582 1721.15,88.4582 1722.6,88.4582 1724.06,88.4582 \n",
       "  1725.52,88.4582 1726.97,88.4582 1728.43,88.4582 1729.89,88.4582 1731.34,88.4582 1732.8,88.4582 1734.26,88.4582 1735.71,88.4582 1737.17,88.4582 1738.63,88.4582 \n",
       "  1740.08,88.4582 1741.54,88.4582 1743,88.4582 1744.45,88.4582 1745.91,88.4582 1747.37,88.4582 1748.82,88.4582 1750.28,88.4582 1751.74,88.4582 1753.19,88.4582 \n",
       "  1754.65,88.4582 1756.11,88.4582 1757.56,88.4582 1759.02,88.4582 1760.48,88.4582 1761.93,88.4582 1763.39,88.4582 1764.85,88.4582 1766.3,88.4582 1767.76,88.4582 \n",
       "  1769.22,88.4582 1770.67,88.4582 1772.13,88.4582 1773.59,88.4582 1775.04,88.4582 1776.5,88.4582 1777.96,88.4582 1779.41,88.4582 1780.87,88.4582 1782.33,88.4582 \n",
       "  1783.78,88.4582 1785.24,88.4582 1786.7,88.4582 1788.15,88.4582 1789.61,88.4582 1791.07,88.4582 1792.52,88.4582 1793.98,88.4582 1795.44,88.4582 1796.89,88.4582 \n",
       "  1798.35,88.4582 1799.81,88.4582 1801.26,88.4582 1802.72,88.4582 1804.18,88.4582 1805.63,88.4582 1807.09,88.4582 1808.55,88.4582 1810,88.4582 1811.46,88.4582 \n",
       "  1812.92,88.4582 1814.37,88.4582 1815.83,88.4582 1817.29,88.4582 1818.74,88.4582 1820.2,88.4582 1821.66,88.4582 1823.11,88.4582 1824.57,88.4582 1826.03,88.4582 \n",
       "  1827.48,88.4582 1828.94,88.4582 1830.4,88.4582 1831.85,88.4582 1833.31,88.4582 1834.77,88.4582 1836.22,88.4582 1837.68,88.4582 1839.14,88.4582 1840.59,88.4582 \n",
       "  1842.05,88.4582 1843.51,88.4582 1844.96,88.4582 1846.42,88.4582 1847.88,88.4582 1849.33,88.4582 1850.79,88.4582 1852.25,88.4582 1853.7,88.4582 1855.16,88.4582 \n",
       "  1856.62,88.4582 1858.08,88.4582 1859.53,88.4582 1860.99,88.4582 1862.45,88.4582 1863.9,88.4582 1865.36,88.4582 1866.82,88.4582 1868.27,88.4582 1869.73,88.4582 \n",
       "  1871.19,88.4582 1872.64,88.4582 1874.1,88.4582 1875.56,88.4582 1877.01,88.4582 1878.47,88.4582 1879.93,88.4582 1881.38,88.4582 1882.84,88.4582 1884.3,88.4582 \n",
       "  1885.75,88.4582 1887.21,88.4582 1888.67,88.4582 1890.12,88.4582 1891.58,88.4582 1893.04,88.4582 1894.49,88.4582 1895.95,88.4582 1897.41,88.4582 1898.86,88.4582 \n",
       "  1900.32,88.4582 1901.78,88.4582 1903.23,88.4582 1904.69,88.4582 1906.15,88.4582 1907.6,88.4582 1909.06,88.4582 1910.52,88.4582 1911.97,88.4582 1913.43,88.4582 \n",
       "  1914.89,88.4582 1916.34,88.4582 1917.8,88.4582 1919.26,88.4582 1920.71,88.4582 1922.17,88.4582 1923.63,88.4582 1925.08,88.4582 1926.54,88.4582 1928,88.4582 \n",
       "  1929.45,88.4582 1930.91,88.4582 1932.37,88.4582 1933.82,88.4582 1935.28,88.4582 1936.74,88.4582 1938.19,88.4582 1939.65,88.4582 1941.11,88.4582 1942.56,88.4582 \n",
       "  1944.02,88.4582 1945.48,88.4582 1946.93,88.4582 1948.39,88.4582 1949.85,88.4582 1951.3,88.4582 1952.76,88.4582 1954.22,88.4582 1955.67,88.4582 1957.13,88.4582 \n",
       "  1958.59,88.4582 1960.04,88.4582 1961.5,88.4582 1962.96,88.4582 1964.41,88.4582 1965.87,88.4582 1967.33,88.4582 1968.78,88.4582 1970.24,88.4582 1971.7,88.4582 \n",
       "  1973.15,88.4582 1974.61,88.4582 1976.07,88.4582 1977.52,88.4582 1978.98,88.4582 1980.44,88.4582 1981.89,88.4582 1983.35,88.4582 1984.81,88.4582 1986.26,88.4582 \n",
       "  1987.72,88.4582 1989.18,88.4582 1990.63,88.4582 1992.09,88.4582 1993.55,88.4582 1995,88.4582 1996.46,88.4582 1997.92,88.4582 1999.37,88.4582 2000.83,88.4582 \n",
       "  2002.29,88.4582 2003.74,88.4582 2005.2,88.4582 2006.66,88.4582 2008.11,88.4582 2009.57,88.4582 2011.03,88.4582 2012.48,88.4582 2013.94,88.4582 2015.4,88.4582 \n",
       "  2016.85,88.4582 2018.31,88.4582 2019.77,88.4582 2021.22,88.4582 2022.68,88.4582 2024.14,88.4582 2025.59,88.4582 2027.05,88.4582 2028.51,88.4582 2029.96,88.4582 \n",
       "  2031.42,88.4582 2032.88,88.4582 2034.33,88.4582 2035.79,88.4582 2037.25,88.4582 2038.7,88.4582 2040.16,88.4582 2041.62,88.4582 2043.08,88.4582 2044.53,88.4582 \n",
       "  2045.99,88.4582 2047.45,88.4582 2048.9,88.4582 2050.36,88.4582 2051.82,88.4582 2053.27,88.4582 2054.73,88.4582 2056.19,88.4582 2057.64,88.4582 2059.1,88.4582 \n",
       "  2060.56,88.4582 2062.01,88.4582 2063.47,88.4582 2064.93,88.4582 2066.38,88.4582 2067.84,88.4582 2069.3,88.4582 2070.75,88.4582 2072.21,88.4582 2073.67,88.4582 \n",
       "  2075.12,88.4582 2076.58,88.4582 2078.04,88.4582 2079.49,88.4582 2080.95,88.4582 2082.41,88.4582 2083.86,88.4582 2085.32,88.4582 2086.78,88.4582 2088.23,88.4582 \n",
       "  2089.69,88.4582 2091.15,88.4582 2092.6,88.4582 2094.06,88.4582 2095.52,88.4582 2096.97,88.4582 2098.43,88.4582 2099.89,88.4582 2101.34,88.4582 2102.8,88.4582 \n",
       "  2104.26,88.4582 2105.71,88.4582 2107.17,88.4582 2108.63,88.4582 2110.08,88.4582 2111.54,88.4582 2113,88.4582 2114.45,88.4582 2115.91,88.4582 2117.37,88.4582 \n",
       "  2118.82,88.4582 2120.28,88.4582 2121.74,88.4582 2123.19,88.4582 2124.65,88.4582 2126.11,88.4582 2127.56,88.4582 2129.02,88.4582 2130.48,88.4582 2131.93,88.4582 \n",
       "  2133.39,88.4582 2134.85,88.4582 2136.3,88.4582 2137.76,88.4582 2139.22,88.4582 2140.67,88.4582 2142.13,88.4582 2143.59,88.4582 2145.04,88.4582 2146.5,88.4582 \n",
       "  2147.96,88.4582 2149.41,88.4582 2150.87,88.4582 2152.33,88.4582 2153.78,88.4582 2155.24,88.4582 2156.7,88.4582 2158.15,88.4582 2159.61,88.4582 2161.07,88.4582 \n",
       "  2162.52,88.4582 2163.98,88.4582 2165.44,88.4582 2166.89,88.4582 2168.35,88.4582 2169.81,88.4582 2171.26,88.4582 2172.72,88.4582 2174.18,88.4582 2175.63,88.4582 \n",
       "  2177.09,88.4582 2178.55,88.4582 2180,88.4582 2181.46,88.4582 2182.92,88.4582 2184.37,88.4582 2185.83,88.4582 2187.29,88.4582 2188.74,88.4582 2190.2,88.4582 \n",
       "  2191.66,88.4582 2193.11,88.4582 2194.57,88.4582 2196.03,88.4582 2197.48,88.4582 2198.94,88.4582 2200.4,88.4582 2201.85,88.4582 2203.31,88.4582 2204.77,88.4582 \n",
       "  2206.22,88.4582 2207.68,88.4582 2209.14,88.4582 2210.59,88.4582 2212.05,88.4582 2213.51,88.4582 2214.96,88.4582 2216.42,88.4582 2217.88,88.4582 2219.33,88.4582 \n",
       "  2220.79,88.4582 2222.25,88.4582 2223.71,88.4582 2225.16,88.4582 2226.62,88.4582 2228.08,88.4582 2229.53,88.4582 2230.99,88.4582 2232.45,88.4582 2233.9,88.4582 \n",
       "  2235.36,88.4582 2236.82,88.4582 2238.27,88.4582 2239.73,88.4582 2241.19,88.4582 2242.64,88.4582 2244.1,88.4582 2245.56,88.4582 2247.01,88.4582 2248.47,88.4582 \n",
       "  2249.93,88.4582 2251.38,88.4582 2252.84,88.4582 2254.3,88.4582 2255.75,88.4582 2257.21,88.4582 2258.67,88.4582 2260.12,88.4582 2261.58,88.4582 2263.04,88.4582 \n",
       "  2264.49,88.4582 2265.95,88.4582 2267.41,88.4582 2268.86,88.4582 2270.32,88.4582 2271.78,88.4582 2273.23,88.4582 2274.69,88.4582 2276.15,88.4582 2277.6,88.4582 \n",
       "  \n",
       "  \"/>\n",
       "<polygon clip-path=\"url(#clip7901)\" points=\"\n",
       "1958.43,251.724 2249.26,251.724 2249.26,130.764 1958.43,130.764 \n",
       "  \" fill=\"#ffffff\" fill-opacity=\"1\"/>\n",
       "<polyline clip-path=\"url(#clip7901)\" style=\"stroke:#000000; stroke-width:4; stroke-opacity:1; fill:none\" points=\"\n",
       "  1958.43,251.724 2249.26,251.724 2249.26,130.764 1958.43,130.764 1958.43,251.724 \n",
       "  \"/>\n",
       "<polyline clip-path=\"url(#clip7901)\" style=\"stroke:#009af9; stroke-width:4; stroke-opacity:1; fill:none\" points=\"\n",
       "  1982.43,191.244 2126.43,191.244 \n",
       "  \"/>\n",
       "<g clip-path=\"url(#clip7901)\">\n",
       "<text style=\"fill:#000000; fill-opacity:1; font-family:Arial,Helvetica Neue,Helvetica,sans-serif; font-size:48; text-anchor:start;\" transform=\"rotate(0, 2150.43, 208.744)\" x=\"2150.43\" y=\"208.744\">y1</text>\n",
       "</g>\n",
       "</svg>\n"
      ]
     },
     "execution_count": 8,
     "metadata": {},
     "output_type": "execute_result"
    }
   ],
   "source": [
    "c=Float64[]\n",
    "for i=1:1000\n",
    "    push!(c, eps(Float64(i)))\n",
    "end\n",
    "plot(1:1000, c)"
   ]
  },
  {
   "cell_type": "markdown",
   "metadata": {},
   "source": [
    "<b>Zadanie 3</b> Jedną z bibliotek numerycznych, jaką będziemy używać na zajęciach jest <a href=\"http://home.agh.edu.pl/~kzajac/dydakt/mownit/lab1/gsl.html\">GSL</a> (język C). Korzystając ze <a href=\"https://www.gnu.org/software/gsl/doc/html/ieee754.html\"> wsparcia dla wyświetlania reprezentacji liczb zmiennoprzecinkowych</a> zobaczyć jak zmienia się cecha i mantysa dla coraz mniejszych liczb. Zaobserwować, kiedy matysa przestaje być znormalizowana i dlaczego?"
   ]
  },
  {
   "cell_type": "markdown",
   "metadata": {},
   "source": [
    "<b>Zadanie 4</b> Wymyślić własny przykład algorytmu niestablinego numerycznie. \n",
    "1. Zademostrować wersję niestabilną, pokazać, że działa źle.\n",
    "2. Wyjaśnić, dlaczego działa źle.\n",
    "3. Zademonstować wersję stabilną.\n",
    "4. Język dowolny."
   ]
  },
  {
   "cell_type": "code",
   "execution_count": 2,
   "metadata": {},
   "outputs": [
    {
     "data": {
      "text/plain": [
       "unstable_quadratic (generic function with 1 method)"
      ]
     },
     "execution_count": 2,
     "metadata": {},
     "output_type": "execute_result"
    }
   ],
   "source": [
    "function unstable_quadratic(a, b, c)\n",
    "    discr = b^2 - 4*a*c\n",
    "    discr >= 0 ?   ( (-b + sqrt(discr))/(2a), (-b - sqrt(discr))/(2a) ) : error(\"Only complex roots\")\n",
    "end"
   ]
  },
  {
   "cell_type": "code",
   "execution_count": 24,
   "metadata": {},
   "outputs": [
    {
     "data": {
      "text/plain": [
       "stable_quadratic (generic function with 1 method)"
      ]
     },
     "execution_count": 24,
     "metadata": {},
     "output_type": "execute_result"
    }
   ],
   "source": [
    "function stable_quadratic(a, b, c)\n",
    "    discr = b^2 - 4*a*c\n",
    "    x1 = 0\n",
    "    x2 = 0\n",
    "    if discr < 0 \n",
    "        error(\"Only complex roots\")\n",
    "    end\n",
    "    if b >= 0\n",
    "        x2 = (-b - sqrt(discr))/(2a)\n",
    "        x1 = c / (a * x2)\n",
    "    else\n",
    "        x1 = (-b + sqrt(discr))/(2a)\n",
    "        x2 = c / (a * x1)\n",
    "    end\n",
    "    \n",
    "    return (x1, x2)\n",
    "end\n"
   ]
  },
  {
   "cell_type": "code",
   "execution_count": 37,
   "metadata": {},
   "outputs": [
    {
     "name": "stdout",
     "output_type": "stream",
     "text": [
      "ustable: (-1.0, -1.0)\n",
      "stable: (-1.0, -1.0)\n",
      "unstable == stable: true\n"
     ]
    }
   ],
   "source": [
    "a = 1.0\n",
    "b = 2.0\n",
    "c = 1.0\n",
    "\n",
    "unstable = unstable_quadratic(a, b, c)\n",
    "println(\"ustable: $unstable\")\n",
    "\n",
    "stable = stable_quadratic(a, b, c)\n",
    "println(\"stable: $stable\")\n",
    "\n",
    "println(string(\"unstable == stable: \", unstable == stable))"
   ]
  },
  {
   "cell_type": "code",
   "execution_count": 38,
   "metadata": {},
   "outputs": [
    {
     "name": "stdout",
     "output_type": "stream",
     "text": [
      "ustable: (1.0, 1.0)\n",
      "stable: (1.0, 1.0)\n",
      "unstable == stable: true\n"
     ]
    }
   ],
   "source": [
    "a = 1.0\n",
    "b = -2.0\n",
    "c = 1.0\n",
    "\n",
    "unstable = unstable_quadratic(a, b, c)\n",
    "println(\"ustable: $unstable\")\n",
    "\n",
    "stable = stable_quadratic(a, b, c)\n",
    "println(\"stable: $stable\")\n",
    "\n",
    "println(string(\"unstable == stable: \", unstable == stable))"
   ]
  },
  {
   "cell_type": "code",
   "execution_count": 41,
   "metadata": {},
   "outputs": [
    {
     "name": "stdout",
     "output_type": "stream",
     "text": [
      "ustable: (-0.26794919243112264, -3.732050807568877)\n",
      "stable: (-0.2679491924311227, -3.732050807568877)\n",
      "unstable == stable: false\n"
     ]
    }
   ],
   "source": [
    "a = 10000000000000.0\n",
    "b = 40000000000000.0\n",
    "c = 10000000000000.0\n",
    "\n",
    "unstable = unstable_quadratic(a, b, c)\n",
    "println(\"ustable: $unstable\")\n",
    "\n",
    "stable = stable_quadratic(a, b, c)\n",
    "println(\"stable: $stable\")\n",
    "\n",
    "println(string(\"unstable == stable: \", unstable == stable))"
   ]
  },
  {
   "cell_type": "code",
   "execution_count": 42,
   "metadata": {},
   "outputs": [
    {
     "name": "stdout",
     "output_type": "stream",
     "text": [
      "ustable: (3.732050807568877, 0.26794919243112264)\n",
      "stable: (3.732050807568877, 0.2679491924311227)\n",
      "unstable == stable: false\n"
     ]
    }
   ],
   "source": [
    "a = 10000000000000.0\n",
    "b = -40000000000000.0\n",
    "c = 10000000000000.0\n",
    "\n",
    "unstable = unstable_quadratic(a, b, c)\n",
    "println(\"ustable: $unstable\")\n",
    "\n",
    "stable = stable_quadratic(a, b, c)\n",
    "println(\"stable: $stable\")\n",
    "\n",
    "println(string(\"unstable == stable: \", unstable == stable))"
   ]
  }
 ],
 "metadata": {
  "kernelspec": {
   "display_name": "Julia 1.0.2",
   "language": "julia",
   "name": "julia-1.0"
  },
  "language_info": {
   "file_extension": ".jl",
   "mimetype": "application/julia",
   "name": "julia",
   "version": "1.0.3"
  }
 },
 "nbformat": 4,
 "nbformat_minor": 2
}
